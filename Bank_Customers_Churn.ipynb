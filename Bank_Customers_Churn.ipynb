{
 "cells": [
  {
   "cell_type": "markdown",
   "id": "fd1b651a",
   "metadata": {},
   "source": [
    "# Bank Customers Churn\n",
    "## Artificial Neural Network Model using Keras and Tensorflow with 85% Acuuracy\n",
    "---\n",
    "## About Dataset\n",
    "---\n",
    "### Context\n",
    "* A dataset which contain some customers who are withdrawing their account from the bank due to some loss and other issues with the help this data we try to analyse and maintain accuracy.\n",
    "---\n",
    "### Content\n",
    "* What's inside is more than just rows and columns. Make it easy for others to get started by describing how you acquired the data and what time period it represents, too.\n",
    "---\n",
    "### Acknowledgements\n",
    "* We wouldn't be here without the help of others. If you owe any attributions or thanks, include them here along with any citations of past research.\n",
    "---\n",
    "### Inspiration\n",
    "* Your data will be in front of the world's largest data science community. What questions do you want to see answered?\n",
    "---\n",
    "[Source](https://www.kaggle.com/datasets/santoshd3/bank-customers)"
   ]
  },
  {
   "cell_type": "markdown",
   "id": "0723166e",
   "metadata": {},
   "source": [
    "* CustomerId : identity number\n",
    "* Surname : last name\n",
    "* CreditScore\n",
    "* Geography : Country or region\n",
    "* Gender : Male or female\n",
    "* Age : customer age\n",
    "* Tenure : ?\n",
    "* Balance : Amount in account\n",
    "* NumOfProducts\n",
    "* HasCrCard\n",
    "* IsActiveMember\n",
    "* EstimatedSalary\n",
    "* Exited"
   ]
  },
  {
   "cell_type": "markdown",
   "id": "a6eb096f",
   "metadata": {},
   "source": [
    "# Library 및 Data Load"
   ]
  },
  {
   "cell_type": "code",
   "execution_count": 1,
   "id": "fb73a964",
   "metadata": {
    "ExecuteTime": {
     "end_time": "2022-07-05T16:40:48.492708Z",
     "start_time": "2022-07-05T16:40:45.229919Z"
    }
   },
   "outputs": [],
   "source": [
    "import pandas as pd\n",
    "import numpy as np\n",
    "import matplotlib.pyplot as plt\n",
    "import seaborn as sns\n",
    "from sklearn.model_selection import train_test_split\n",
    "import tensorflow as tf\n",
    "from sklearn.metrics import mean_squared_error"
   ]
  },
  {
   "cell_type": "code",
   "execution_count": 2,
   "id": "95639011",
   "metadata": {
    "ExecuteTime": {
     "end_time": "2022-07-05T16:29:11.027089Z",
     "start_time": "2022-07-05T16:29:11.009085Z"
    }
   },
   "outputs": [],
   "source": [
    "# plt.style.use(\"grayscale\")\n",
    "# plt.style.use(\"ggplot\")\n",
    "plt.style.use(\"seaborn\")\n",
    "parameters = {'axes.labelsize': 25,\n",
    "          'axes.titlesize': 25,\n",
    "             'xtick.labelsize' : 15,\n",
    "             'ytick.labelsize' : 15,\n",
    "             'font.size' : 15}\n",
    "plt.rcParams.update(parameters)\n",
    "plt.rcParams[\"figure.figsize\"] = (15, 8)"
   ]
  },
  {
   "cell_type": "code",
   "execution_count": 3,
   "id": "79c34631",
   "metadata": {
    "ExecuteTime": {
     "end_time": "2022-07-05T15:55:28.217790Z",
     "start_time": "2022-07-05T15:55:28.186783Z"
    }
   },
   "outputs": [
    {
     "data": {
      "text/html": [
       "<div>\n",
       "<style scoped>\n",
       "    .dataframe tbody tr th:only-of-type {\n",
       "        vertical-align: middle;\n",
       "    }\n",
       "\n",
       "    .dataframe tbody tr th {\n",
       "        vertical-align: top;\n",
       "    }\n",
       "\n",
       "    .dataframe thead th {\n",
       "        text-align: right;\n",
       "    }\n",
       "</style>\n",
       "<table border=\"1\" class=\"dataframe\">\n",
       "  <thead>\n",
       "    <tr style=\"text-align: right;\">\n",
       "      <th></th>\n",
       "      <th>RowNumber</th>\n",
       "      <th>CustomerId</th>\n",
       "      <th>Surname</th>\n",
       "      <th>CreditScore</th>\n",
       "      <th>Geography</th>\n",
       "      <th>Gender</th>\n",
       "      <th>Age</th>\n",
       "      <th>Tenure</th>\n",
       "      <th>Balance</th>\n",
       "      <th>NumOfProducts</th>\n",
       "      <th>HasCrCard</th>\n",
       "      <th>IsActiveMember</th>\n",
       "      <th>EstimatedSalary</th>\n",
       "      <th>Exited</th>\n",
       "    </tr>\n",
       "  </thead>\n",
       "  <tbody>\n",
       "    <tr>\n",
       "      <th>0</th>\n",
       "      <td>1</td>\n",
       "      <td>15634602</td>\n",
       "      <td>Hargrave</td>\n",
       "      <td>619</td>\n",
       "      <td>France</td>\n",
       "      <td>Female</td>\n",
       "      <td>42</td>\n",
       "      <td>2</td>\n",
       "      <td>0.00</td>\n",
       "      <td>1</td>\n",
       "      <td>1</td>\n",
       "      <td>1</td>\n",
       "      <td>101348.88</td>\n",
       "      <td>1</td>\n",
       "    </tr>\n",
       "    <tr>\n",
       "      <th>1</th>\n",
       "      <td>2</td>\n",
       "      <td>15647311</td>\n",
       "      <td>Hill</td>\n",
       "      <td>608</td>\n",
       "      <td>Spain</td>\n",
       "      <td>Female</td>\n",
       "      <td>41</td>\n",
       "      <td>1</td>\n",
       "      <td>83807.86</td>\n",
       "      <td>1</td>\n",
       "      <td>0</td>\n",
       "      <td>1</td>\n",
       "      <td>112542.58</td>\n",
       "      <td>0</td>\n",
       "    </tr>\n",
       "    <tr>\n",
       "      <th>2</th>\n",
       "      <td>3</td>\n",
       "      <td>15619304</td>\n",
       "      <td>Onio</td>\n",
       "      <td>502</td>\n",
       "      <td>France</td>\n",
       "      <td>Female</td>\n",
       "      <td>42</td>\n",
       "      <td>8</td>\n",
       "      <td>159660.80</td>\n",
       "      <td>3</td>\n",
       "      <td>1</td>\n",
       "      <td>0</td>\n",
       "      <td>113931.57</td>\n",
       "      <td>1</td>\n",
       "    </tr>\n",
       "    <tr>\n",
       "      <th>3</th>\n",
       "      <td>4</td>\n",
       "      <td>15701354</td>\n",
       "      <td>Boni</td>\n",
       "      <td>699</td>\n",
       "      <td>France</td>\n",
       "      <td>Female</td>\n",
       "      <td>39</td>\n",
       "      <td>1</td>\n",
       "      <td>0.00</td>\n",
       "      <td>2</td>\n",
       "      <td>0</td>\n",
       "      <td>0</td>\n",
       "      <td>93826.63</td>\n",
       "      <td>0</td>\n",
       "    </tr>\n",
       "    <tr>\n",
       "      <th>4</th>\n",
       "      <td>5</td>\n",
       "      <td>15737888</td>\n",
       "      <td>Mitchell</td>\n",
       "      <td>850</td>\n",
       "      <td>Spain</td>\n",
       "      <td>Female</td>\n",
       "      <td>43</td>\n",
       "      <td>2</td>\n",
       "      <td>125510.82</td>\n",
       "      <td>1</td>\n",
       "      <td>1</td>\n",
       "      <td>1</td>\n",
       "      <td>79084.10</td>\n",
       "      <td>0</td>\n",
       "    </tr>\n",
       "  </tbody>\n",
       "</table>\n",
       "</div>"
      ],
      "text/plain": [
       "   RowNumber  CustomerId   Surname  CreditScore Geography  Gender  Age  \\\n",
       "0          1    15634602  Hargrave          619    France  Female   42   \n",
       "1          2    15647311      Hill          608     Spain  Female   41   \n",
       "2          3    15619304      Onio          502    France  Female   42   \n",
       "3          4    15701354      Boni          699    France  Female   39   \n",
       "4          5    15737888  Mitchell          850     Spain  Female   43   \n",
       "\n",
       "   Tenure    Balance  NumOfProducts  HasCrCard  IsActiveMember  \\\n",
       "0       2       0.00              1          1               1   \n",
       "1       1   83807.86              1          0               1   \n",
       "2       8  159660.80              3          1               0   \n",
       "3       1       0.00              2          0               0   \n",
       "4       2  125510.82              1          1               1   \n",
       "\n",
       "   EstimatedSalary  Exited  \n",
       "0        101348.88       1  \n",
       "1        112542.58       0  \n",
       "2        113931.57       1  \n",
       "3         93826.63       0  \n",
       "4         79084.10       0  "
      ]
     },
     "metadata": {},
     "output_type": "display_data"
    },
    {
     "data": {
      "text/plain": [
       "(10000, 14)"
      ]
     },
     "execution_count": 3,
     "metadata": {},
     "output_type": "execute_result"
    }
   ],
   "source": [
    "bank = pd.read_csv('Churn Modeling.csv')\n",
    "display(bank.head())\n",
    "bank.shape"
   ]
  },
  {
   "cell_type": "markdown",
   "id": "41b396ec",
   "metadata": {},
   "source": [
    "# Data Check"
   ]
  },
  {
   "cell_type": "code",
   "execution_count": 4,
   "id": "6b85d9ee",
   "metadata": {
    "ExecuteTime": {
     "end_time": "2022-07-05T15:54:02.661767Z",
     "start_time": "2022-07-05T15:54:02.646763Z"
    }
   },
   "outputs": [
    {
     "data": {
      "text/plain": [
       "(10000, 14)"
      ]
     },
     "execution_count": 4,
     "metadata": {},
     "output_type": "execute_result"
    }
   ],
   "source": [
    "bank.shape"
   ]
  },
  {
   "cell_type": "markdown",
   "id": "49869785",
   "metadata": {},
   "source": [
    "## Data Info"
   ]
  },
  {
   "cell_type": "code",
   "execution_count": 5,
   "id": "c50ba791",
   "metadata": {
    "ExecuteTime": {
     "end_time": "2022-07-05T16:18:16.043972Z",
     "start_time": "2022-07-05T16:18:16.024967Z"
    }
   },
   "outputs": [
    {
     "name": "stdout",
     "output_type": "stream",
     "text": [
      "<class 'pandas.core.frame.DataFrame'>\n",
      "RangeIndex: 10000 entries, 0 to 9999\n",
      "Data columns (total 14 columns):\n",
      " #   Column           Non-Null Count  Dtype  \n",
      "---  ------           --------------  -----  \n",
      " 0   RowNumber        10000 non-null  int64  \n",
      " 1   CustomerId       10000 non-null  int64  \n",
      " 2   Surname          10000 non-null  object \n",
      " 3   CreditScore      10000 non-null  int64  \n",
      " 4   Geography        10000 non-null  object \n",
      " 5   Gender           10000 non-null  object \n",
      " 6   Age              10000 non-null  int64  \n",
      " 7   Tenure           10000 non-null  int64  \n",
      " 8   Balance          10000 non-null  float64\n",
      " 9   NumOfProducts    10000 non-null  int64  \n",
      " 10  HasCrCard        10000 non-null  int64  \n",
      " 11  IsActiveMember   10000 non-null  int64  \n",
      " 12  EstimatedSalary  10000 non-null  float64\n",
      " 13  Exited           10000 non-null  int64  \n",
      "dtypes: float64(2), int64(9), object(3)\n",
      "memory usage: 1.1+ MB\n"
     ]
    }
   ],
   "source": [
    "# RowNumber 는 index기에 필요없어보임.\n",
    "bank.info()"
   ]
  },
  {
   "cell_type": "markdown",
   "id": "ef3a6441",
   "metadata": {},
   "source": [
    "## Check Duplicate"
   ]
  },
  {
   "cell_type": "code",
   "execution_count": 6,
   "id": "d3c63030",
   "metadata": {
    "ExecuteTime": {
     "end_time": "2022-07-05T16:17:01.016885Z",
     "start_time": "2022-07-05T16:17:01.003881Z"
    }
   },
   "outputs": [
    {
     "data": {
      "text/plain": [
       "RowNumber          10000\n",
       "CustomerId         10000\n",
       "Surname             2932\n",
       "CreditScore          460\n",
       "Geography              3\n",
       "Gender                 2\n",
       "Age                   70\n",
       "Tenure                11\n",
       "Balance             6382\n",
       "NumOfProducts          4\n",
       "HasCrCard              2\n",
       "IsActiveMember         2\n",
       "EstimatedSalary     9999\n",
       "Exited                 2\n",
       "dtype: int64"
      ]
     },
     "execution_count": 6,
     "metadata": {},
     "output_type": "execute_result"
    }
   ],
   "source": [
    "bank.nunique()"
   ]
  },
  {
   "cell_type": "code",
   "execution_count": 7,
   "id": "a0f1cba0",
   "metadata": {
    "ExecuteTime": {
     "end_time": "2022-07-05T16:20:29.980684Z",
     "start_time": "2022-07-05T16:20:29.970682Z"
    }
   },
   "outputs": [
    {
     "data": {
      "text/plain": [
       "Smith      32\n",
       "Martin     29\n",
       "Scott      29\n",
       "Walker     28\n",
       "Brown      26\n",
       "           ..\n",
       "Darling     1\n",
       "Palazzi     1\n",
       "Nicolay     1\n",
       "Luffman     1\n",
       "Edments     1\n",
       "Name: Surname, Length: 2932, dtype: int64"
      ]
     },
     "execution_count": 7,
     "metadata": {},
     "output_type": "execute_result"
    }
   ],
   "source": [
    "bank.Surname.value_counts()"
   ]
  },
  {
   "cell_type": "code",
   "execution_count": 8,
   "id": "b5c4bfb8",
   "metadata": {
    "ExecuteTime": {
     "end_time": "2022-07-05T16:29:39.539915Z",
     "start_time": "2022-07-05T16:29:39.519912Z"
    }
   },
   "outputs": [
    {
     "data": {
      "text/plain": [
       "2     1048\n",
       "1     1035\n",
       "7     1028\n",
       "8     1025\n",
       "5     1012\n",
       "3     1009\n",
       "4      989\n",
       "9      984\n",
       "6      967\n",
       "10     490\n",
       "0      413\n",
       "Name: Tenure, dtype: int64"
      ]
     },
     "execution_count": 8,
     "metadata": {},
     "output_type": "execute_result"
    }
   ],
   "source": [
    "bank.Tenure.value_counts()"
   ]
  },
  {
   "cell_type": "markdown",
   "id": "c32daf7a",
   "metadata": {},
   "source": [
    "## 결측치 확인"
   ]
  },
  {
   "cell_type": "code",
   "execution_count": 9,
   "id": "d162f79b",
   "metadata": {
    "ExecuteTime": {
     "end_time": "2022-07-05T16:17:45.303135Z",
     "start_time": "2022-07-05T16:17:45.283131Z"
    }
   },
   "outputs": [
    {
     "data": {
      "text/plain": [
       "RowNumber          0\n",
       "CustomerId         0\n",
       "Surname            0\n",
       "CreditScore        0\n",
       "Geography          0\n",
       "Gender             0\n",
       "Age                0\n",
       "Tenure             0\n",
       "Balance            0\n",
       "NumOfProducts      0\n",
       "HasCrCard          0\n",
       "IsActiveMember     0\n",
       "EstimatedSalary    0\n",
       "Exited             0\n",
       "dtype: int64"
      ]
     },
     "execution_count": 9,
     "metadata": {},
     "output_type": "execute_result"
    }
   ],
   "source": [
    "bank.isnull().sum()\n",
    "    # 결측치 없음 꿀"
   ]
  },
  {
   "cell_type": "markdown",
   "id": "a312364c",
   "metadata": {},
   "source": [
    "## Data Histogram"
   ]
  },
  {
   "cell_type": "code",
   "execution_count": 10,
   "id": "0922e5a5",
   "metadata": {
    "ExecuteTime": {
     "end_time": "2022-07-05T16:28:03.275577Z",
     "start_time": "2022-07-05T16:28:01.131048Z"
    }
   },
   "outputs": [
    {
     "name": "stderr",
     "output_type": "stream",
     "text": [
      "/usr/local/lib/python3.8/dist-packages/pandas/plotting/_matplotlib/tools.py:331: MatplotlibDeprecationWarning: \n",
      "The is_first_col function was deprecated in Matplotlib 3.4 and will be removed two minor releases later. Use ax.get_subplotspec().is_first_col() instead.\n",
      "  if ax.is_first_col():\n"
     ]
    },
    {
     "data": {
      "image/png": "[encoded data removed]",
      "text/plain": [
       "<Figure size 1440x1440 with 12 Axes>"
      ]
     },
     "metadata": {},
     "output_type": "display_data"
    }
   ],
   "source": [
    "_ = bank.hist(bins = 100, figsize = (20, 20))"
   ]
  },
  {
   "cell_type": "markdown",
   "id": "3e5e99f6",
   "metadata": {
    "ExecuteTime": {
     "end_time": "2022-07-05T16:33:08.704093Z",
     "start_time": "2022-07-05T16:33:08.195793Z"
    }
   },
   "source": [
    "plt.figure(figsize = (30, 10))\n",
    "plt.subplot(321)\n",
    "sns.histplot(data = bank, x = 'Tenure')\n",
    "plt.subplot(322)\n",
    "sns.histplot(data = bank, x = 'NumOfProducts')\n",
    "plt.subplot(323)\n",
    "sns.histplot(data = bank, x = 'HasCrCard')\n",
    "plt.subplot(324)\n",
    "sns.histplot(data = bank, x = 'IsActiveMember')\n",
    "plt.subplot(325)\n",
    "sns.histplot(data = bank, x = 'Exited')"
   ]
  },
  {
   "cell_type": "code",
   "execution_count": 11,
   "id": "a4d3c423",
   "metadata": {},
   "outputs": [],
   "source": [
    "class PrintDot(tf.keras.callbacks.Callback):\n",
    "  def on_epoch_end(self, epoch, logs):\n",
    "    if epoch % 100 == 0: print('')\n",
    "    print('.', end='')\n",
    "\n",
    "early_stop = tf.keras.callbacks.EarlyStopping(monitor='val_loss', patience=50)"
   ]
  },
  {
   "cell_type": "markdown",
   "id": "372a5c8f",
   "metadata": {},
   "source": [
    "# 모델 생성"
   ]
  },
  {
   "cell_type": "code",
   "execution_count": 12,
   "id": "c634206b",
   "metadata": {
    "ExecuteTime": {
     "end_time": "2022-07-05T16:58:09.137982Z",
     "start_time": "2022-07-05T16:58:09.126979Z"
    }
   },
   "outputs": [],
   "source": [
    "df = bank.copy()"
   ]
  },
  {
   "cell_type": "code",
   "execution_count": 13,
   "id": "9980e5a2",
   "metadata": {
    "ExecuteTime": {
     "end_time": "2022-07-05T16:58:09.318045Z",
     "start_time": "2022-07-05T16:58:09.306042Z"
    }
   },
   "outputs": [
    {
     "name": "stdout",
     "output_type": "stream",
     "text": [
      "(10000, 9) (10000,)\n"
     ]
    }
   ],
   "source": [
    "label_name = 'Exited'\n",
    "feature_ = ['CreditScore', 'Geography', 'Gender', 'Tenure', 'Balance', 'NumOfProducts', 'HasCrCard',\n",
    "       'IsActiveMember', 'EstimatedSalary']\n",
    "# feature_ = ['CreditScore', 'Geography', 'Gender', 'Age', 'Tenure', 'Balance', 'NumOfProducts', 'HasCrCard',\n",
    "#        'IsActiveMember', 'EstimatedSalary']\n",
    "X = df[ feature_ ]\n",
    "y = df[ label_name ]\n",
    "print(X.shape, y.shape)"
   ]
  },
  {
   "cell_type": "code",
   "execution_count": 14,
   "id": "7a77c5e6",
   "metadata": {
    "ExecuteTime": {
     "end_time": "2022-07-05T16:58:09.512874Z",
     "start_time": "2022-07-05T16:58:09.502871Z"
    }
   },
   "outputs": [],
   "source": [
    "X = pd.get_dummies(X)"
   ]
  },
  {
   "cell_type": "code",
   "execution_count": 15,
   "id": "ef1eacdb",
   "metadata": {},
   "outputs": [],
   "source": [
    "tmp = ['CreditScore', 'Tenure', 'Balance', 'NumOfProducts', 'HasCrCard',\n",
    "       'IsActiveMember', 'EstimatedSalary']\n",
    "tmp2 = ['Geography_France','Geography_Germany', 'Geography_Spain', 'Gender_Female', 'Gender_Male']\n",
    "X_cat = X[tmp2]"
   ]
  },
  {
   "cell_type": "code",
   "execution_count": null,
   "id": "65245118",
   "metadata": {},
   "outputs": [],
   "source": []
  },
  {
   "cell_type": "code",
   "execution_count": 16,
   "id": "4dff8c78",
   "metadata": {},
   "outputs": [
    {
     "data": {
      "text/html": [
       "<div>\n",
       "<style scoped>\n",
       "    .dataframe tbody tr th:only-of-type {\n",
       "        vertical-align: middle;\n",
       "    }\n",
       "\n",
       "    .dataframe tbody tr th {\n",
       "        vertical-align: top;\n",
       "    }\n",
       "\n",
       "    .dataframe thead th {\n",
       "        text-align: right;\n",
       "    }\n",
       "</style>\n",
       "<table border=\"1\" class=\"dataframe\">\n",
       "  <thead>\n",
       "    <tr style=\"text-align: right;\">\n",
       "      <th></th>\n",
       "      <th>CreditScore</th>\n",
       "      <th>Tenure</th>\n",
       "      <th>Balance</th>\n",
       "      <th>NumOfProducts</th>\n",
       "      <th>HasCrCard</th>\n",
       "      <th>IsActiveMember</th>\n",
       "      <th>EstimatedSalary</th>\n",
       "    </tr>\n",
       "  </thead>\n",
       "  <tbody>\n",
       "    <tr>\n",
       "      <th>0</th>\n",
       "      <td>-0.326221</td>\n",
       "      <td>-1.041760</td>\n",
       "      <td>-1.225848</td>\n",
       "      <td>-0.911583</td>\n",
       "      <td>0.646092</td>\n",
       "      <td>0.970243</td>\n",
       "      <td>0.021886</td>\n",
       "    </tr>\n",
       "    <tr>\n",
       "      <th>1</th>\n",
       "      <td>-0.440036</td>\n",
       "      <td>-1.387538</td>\n",
       "      <td>0.117350</td>\n",
       "      <td>-0.911583</td>\n",
       "      <td>-1.547768</td>\n",
       "      <td>0.970243</td>\n",
       "      <td>0.216534</td>\n",
       "    </tr>\n",
       "    <tr>\n",
       "      <th>2</th>\n",
       "      <td>-1.536794</td>\n",
       "      <td>1.032908</td>\n",
       "      <td>1.333053</td>\n",
       "      <td>2.527057</td>\n",
       "      <td>0.646092</td>\n",
       "      <td>-1.030670</td>\n",
       "      <td>0.240687</td>\n",
       "    </tr>\n",
       "    <tr>\n",
       "      <th>3</th>\n",
       "      <td>0.501521</td>\n",
       "      <td>-1.387538</td>\n",
       "      <td>-1.225848</td>\n",
       "      <td>0.807737</td>\n",
       "      <td>-1.547768</td>\n",
       "      <td>-1.030670</td>\n",
       "      <td>-0.108918</td>\n",
       "    </tr>\n",
       "    <tr>\n",
       "      <th>4</th>\n",
       "      <td>2.063884</td>\n",
       "      <td>-1.041760</td>\n",
       "      <td>0.785728</td>\n",
       "      <td>-0.911583</td>\n",
       "      <td>0.646092</td>\n",
       "      <td>0.970243</td>\n",
       "      <td>-0.365276</td>\n",
       "    </tr>\n",
       "    <tr>\n",
       "      <th>...</th>\n",
       "      <td>...</td>\n",
       "      <td>...</td>\n",
       "      <td>...</td>\n",
       "      <td>...</td>\n",
       "      <td>...</td>\n",
       "      <td>...</td>\n",
       "      <td>...</td>\n",
       "    </tr>\n",
       "    <tr>\n",
       "      <th>9995</th>\n",
       "      <td>1.246488</td>\n",
       "      <td>-0.004426</td>\n",
       "      <td>-1.225848</td>\n",
       "      <td>0.807737</td>\n",
       "      <td>0.646092</td>\n",
       "      <td>-1.030670</td>\n",
       "      <td>-0.066419</td>\n",
       "    </tr>\n",
       "    <tr>\n",
       "      <th>9996</th>\n",
       "      <td>-1.391939</td>\n",
       "      <td>1.724464</td>\n",
       "      <td>-0.306379</td>\n",
       "      <td>-0.911583</td>\n",
       "      <td>0.646092</td>\n",
       "      <td>0.970243</td>\n",
       "      <td>0.027988</td>\n",
       "    </tr>\n",
       "    <tr>\n",
       "      <th>9997</th>\n",
       "      <td>0.604988</td>\n",
       "      <td>0.687130</td>\n",
       "      <td>-1.225848</td>\n",
       "      <td>-0.911583</td>\n",
       "      <td>-1.547768</td>\n",
       "      <td>0.970243</td>\n",
       "      <td>-1.008643</td>\n",
       "    </tr>\n",
       "    <tr>\n",
       "      <th>9998</th>\n",
       "      <td>1.256835</td>\n",
       "      <td>-0.695982</td>\n",
       "      <td>-0.022608</td>\n",
       "      <td>0.807737</td>\n",
       "      <td>0.646092</td>\n",
       "      <td>-1.030670</td>\n",
       "      <td>-0.125231</td>\n",
       "    </tr>\n",
       "    <tr>\n",
       "      <th>9999</th>\n",
       "      <td>1.463771</td>\n",
       "      <td>-0.350204</td>\n",
       "      <td>0.859965</td>\n",
       "      <td>-0.911583</td>\n",
       "      <td>0.646092</td>\n",
       "      <td>-1.030670</td>\n",
       "      <td>-1.076370</td>\n",
       "    </tr>\n",
       "  </tbody>\n",
       "</table>\n",
       "<p>10000 rows × 7 columns</p>\n",
       "</div>"
      ],
      "text/plain": [
       "      CreditScore    Tenure   Balance  NumOfProducts  HasCrCard  \\\n",
       "0       -0.326221 -1.041760 -1.225848      -0.911583   0.646092   \n",
       "1       -0.440036 -1.387538  0.117350      -0.911583  -1.547768   \n",
       "2       -1.536794  1.032908  1.333053       2.527057   0.646092   \n",
       "3        0.501521 -1.387538 -1.225848       0.807737  -1.547768   \n",
       "4        2.063884 -1.041760  0.785728      -0.911583   0.646092   \n",
       "...           ...       ...       ...            ...        ...   \n",
       "9995     1.246488 -0.004426 -1.225848       0.807737   0.646092   \n",
       "9996    -1.391939  1.724464 -0.306379      -0.911583   0.646092   \n",
       "9997     0.604988  0.687130 -1.225848      -0.911583  -1.547768   \n",
       "9998     1.256835 -0.695982 -0.022608       0.807737   0.646092   \n",
       "9999     1.463771 -0.350204  0.859965      -0.911583   0.646092   \n",
       "\n",
       "      IsActiveMember  EstimatedSalary  \n",
       "0           0.970243         0.021886  \n",
       "1           0.970243         0.216534  \n",
       "2          -1.030670         0.240687  \n",
       "3          -1.030670        -0.108918  \n",
       "4           0.970243        -0.365276  \n",
       "...              ...              ...  \n",
       "9995       -1.030670        -0.066419  \n",
       "9996        0.970243         0.027988  \n",
       "9997        0.970243        -1.008643  \n",
       "9998       -1.030670        -0.125231  \n",
       "9999       -1.030670        -1.076370  \n",
       "\n",
       "[10000 rows x 7 columns]"
      ]
     },
     "execution_count": 16,
     "metadata": {},
     "output_type": "execute_result"
    }
   ],
   "source": [
    "from sklearn.preprocessing import StandardScaler, MinMaxScaler\n",
    "\n",
    "scaler = StandardScaler()\n",
    "X_scaled = scaler.fit_transform(X[tmp])\n",
    "X_scaled = pd.DataFrame(X_scaled, columns = tmp)\n",
    "X_scaled"
   ]
  },
  {
   "cell_type": "code",
   "execution_count": 17,
   "id": "8733b729",
   "metadata": {},
   "outputs": [],
   "source": [
    "X_prep = pd.concat([X_scaled, X_cat], axis = 1)"
   ]
  },
  {
   "cell_type": "code",
   "execution_count": 18,
   "id": "15f30592",
   "metadata": {
    "ExecuteTime": {
     "end_time": "2022-07-05T16:58:09.707880Z",
     "start_time": "2022-07-05T16:58:09.700878Z"
    }
   },
   "outputs": [
    {
     "data": {
      "text/plain": [
       "((8000, 12), (2000, 12), (8000,), (2000,))"
      ]
     },
     "execution_count": 18,
     "metadata": {},
     "output_type": "execute_result"
    }
   ],
   "source": [
    "X_train, X_test, y_train, y_test = train_test_split( X_prep, y, test_size = 0.2, random_state = 42 )\n",
    "X_train.shape, X_test.shape, y_train.shape, y_test.shape"
   ]
  },
  {
   "cell_type": "code",
   "execution_count": 19,
   "id": "2fecdf71",
   "metadata": {
    "ExecuteTime": {
     "end_time": "2022-07-05T16:58:10.052768Z",
     "start_time": "2022-07-05T16:58:10.037765Z"
    }
   },
   "outputs": [
    {
     "data": {
      "text/plain": [
       "12"
      ]
     },
     "execution_count": 19,
     "metadata": {},
     "output_type": "execute_result"
    }
   ],
   "source": [
    "input_shape = len(X_train.keys())\n",
    "input_shape"
   ]
  },
  {
   "cell_type": "markdown",
   "id": "fd71f762",
   "metadata": {},
   "source": [
    "## relu로만 하면 0 미만 값들을 모두 0으로 처리해버리기 때문에 성능이 생각보다 높아지지 않는다. leaky_relu나 selu를 사용하거나 swish 등 다른 것들 해보기."
   ]
  },
  {
   "cell_type": "code",
   "execution_count": 20,
   "id": "ce7f3bac",
   "metadata": {
    "ExecuteTime": {
     "end_time": "2022-07-05T16:58:10.743031Z",
     "start_time": "2022-07-05T16:58:10.646009Z"
    }
   },
   "outputs": [
    {
     "data": {
      "text/plain": [
       "<keras.engine.sequential.Sequential at 0x7fe32434db20>"
      ]
     },
     "execution_count": 20,
     "metadata": {},
     "output_type": "execute_result"
    }
   ],
   "source": [
    "model = tf.keras.models.Sequential([\n",
    "    tf.keras.layers.Dense(12, activation='swish', input_shape = [input_shape]),\n",
    "    tf.keras.layers.Dense(4, activation='swish'),\n",
    "    tf.keras.layers.Dense(1, activation = 'sigmoid')\n",
    "])\n",
    "model"
   ]
  },
  {
   "cell_type": "code",
   "execution_count": 21,
   "id": "1c8c0428",
   "metadata": {
    "ExecuteTime": {
     "end_time": "2022-07-05T16:58:12.004039Z",
     "start_time": "2022-07-05T16:58:11.985033Z"
    }
   },
   "outputs": [],
   "source": [
    "model.compile(optimizer = 'adam', \n",
    "             loss = 'binary_crossentropy',\n",
    "             metrics = ['accuracy'])"
   ]
  },
  {
   "cell_type": "markdown",
   "id": "bdac24b9",
   "metadata": {
    "ExecuteTime": {
     "end_time": "2022-07-05T16:58:12.453950Z",
     "start_time": "2022-07-05T16:58:12.432946Z"
    }
   },
   "source": [
    "model.summary()"
   ]
  },
  {
   "cell_type": "code",
   "execution_count": 22,
   "id": "b10d4464",
   "metadata": {
    "ExecuteTime": {
     "end_time": "2022-07-05T16:58:25.540849Z",
     "start_time": "2022-07-05T16:58:14.309989Z"
    }
   },
   "outputs": [
    {
     "name": "stdout",
     "output_type": "stream",
     "text": [
      "\n",
      "....................................................................................................\n",
      "..........................................................."
     ]
    },
    {
     "data": {
      "text/plain": [
       "<keras.callbacks.History at 0x7fe324aa2b80>"
      ]
     },
     "execution_count": 22,
     "metadata": {},
     "output_type": "execute_result"
    }
   ],
   "source": [
    "# 학습하기\n",
    "history = model.fit(X_train, y_train, epochs=1000, validation_split=0.2, batch_size = 256,\n",
    "                    callbacks=[early_stop, PrintDot()], verbose=0)\n",
    "history"
   ]
  },
  {
   "cell_type": "code",
   "execution_count": 23,
   "id": "5778fd36",
   "metadata": {
    "ExecuteTime": {
     "end_time": "2022-07-05T16:58:49.344722Z",
     "start_time": "2022-07-05T16:58:49.334719Z"
    }
   },
   "outputs": [],
   "source": [
    "df_hist = pd.DataFrame(history.history)"
   ]
  },
  {
   "cell_type": "code",
   "execution_count": 65,
   "id": "ff0023f1",
   "metadata": {
    "ExecuteTime": {
     "end_time": "2022-07-05T16:59:12.122049Z",
     "start_time": "2022-07-05T16:59:11.890986Z"
    }
   },
   "outputs": [
    {
     "name": "stderr",
     "output_type": "stream",
     "text": [
      "/usr/local/lib/python3.8/dist-packages/pandas/plotting/_matplotlib/tools.py:331: MatplotlibDeprecationWarning: \n",
      "The is_first_col function was deprecated in Matplotlib 3.4 and will be removed two minor releases later. Use ax.get_subplotspec().is_first_col() instead.\n",
      "  if ax.is_first_col():\n",
      "/usr/local/lib/python3.8/dist-packages/pandas/plotting/_matplotlib/tools.py:331: MatplotlibDeprecationWarning: \n",
      "The is_first_col function was deprecated in Matplotlib 3.4 and will be removed two minor releases later. Use ax.get_subplotspec().is_first_col() instead.\n",
      "  if ax.is_first_col():\n"
     ]
    },
    {
     "data": {
      "text/plain": [
       "<AxesSubplot:>"
      ]
     },
     "execution_count": 65,
     "metadata": {},
     "output_type": "execute_result"
    },
    {
     "data": {
      "image/png": "[encoded data removed]",
      "text/plain": [
       "<Figure size 2160x576 with 2 Axes>"
      ]
     },
     "metadata": {},
     "output_type": "display_data"
    }
   ],
   "source": [
    "# 학습결과를 시각화 합니다.\n",
    "fig, axes = plt.subplots( 1, 2, figsize = (30, 8) )\n",
    "df_hist[['loss', 'val_loss']].plot(ax = axes[0])\n",
    "df_hist[['accuracy', 'val_accuracy']].plot(ax = axes[1])"
   ]
  },
  {
   "cell_type": "markdown",
   "id": "25a323f1",
   "metadata": {},
   "source": [
    "# 예측하기"
   ]
  },
  {
   "cell_type": "code",
   "execution_count": 24,
   "id": "79f9b1c1",
   "metadata": {
    "ExecuteTime": {
     "end_time": "2022-07-05T16:59:51.432077Z",
     "start_time": "2022-07-05T16:59:51.311050Z"
    }
   },
   "outputs": [
    {
     "name": "stdout",
     "output_type": "stream",
     "text": [
      "63/63 [==============================] - 0s 611us/step - loss: 0.3998 - accuracy: 0.8285\n"
     ]
    }
   ],
   "source": [
    "y_pred = model.predict(X_test).flatten()\n",
    "y_predict = (y_pred > 0.5).astype(int)\n",
    "test_loss, test_acc = model.evaluate(X_test, y_test)"
   ]
  },
  {
   "cell_type": "code",
   "execution_count": 25,
   "id": "3ecd7e0d",
   "metadata": {},
   "outputs": [
    {
     "data": {
      "text/plain": [
       "0.8285"
      ]
     },
     "execution_count": 25,
     "metadata": {},
     "output_type": "execute_result"
    }
   ],
   "source": [
    "(y_test == y_predict).mean()"
   ]
  },
  {
   "cell_type": "code",
   "execution_count": 26,
   "id": "0f905e83",
   "metadata": {
    "ExecuteTime": {
     "end_time": "2022-07-05T17:00:41.730051Z",
     "start_time": "2022-07-05T17:00:41.719049Z"
    }
   },
   "outputs": [
    {
     "data": {
      "text/plain": [
       "0.41412558481697315"
      ]
     },
     "execution_count": 26,
     "metadata": {},
     "output_type": "execute_result"
    }
   ],
   "source": [
    "rmse = np.sqrt(mean_squared_error(y_test, y_predict))\n",
    "rmse"
   ]
  },
  {
   "cell_type": "code",
   "execution_count": null,
   "id": "c539cbd5",
   "metadata": {
    "ExecuteTime": {
     "end_time": "2022-07-05T17:00:42.285205Z",
     "start_time": "2022-07-05T17:00:42.063154Z"
    }
   },
   "outputs": [],
   "source": []
  },
  {
   "cell_type": "markdown",
   "id": "4040caad",
   "metadata": {},
   "source": [
    "[Optimizer](https://www.tensorflow.org/api_docs/python/tf/keras/optimizers)"
   ]
  },
  {
   "cell_type": "markdown",
   "id": "fcc34583",
   "metadata": {},
   "source": [
    "## Nadam"
   ]
  },
  {
   "cell_type": "code",
   "execution_count": 27,
   "id": "f794faad",
   "metadata": {
    "ExecuteTime": {
     "end_time": "2022-07-05T16:58:10.743031Z",
     "start_time": "2022-07-05T16:58:10.646009Z"
    }
   },
   "outputs": [
    {
     "data": {
      "text/plain": [
       "<keras.engine.sequential.Sequential at 0x7fe3147c4580>"
      ]
     },
     "execution_count": 27,
     "metadata": {},
     "output_type": "execute_result"
    }
   ],
   "source": [
    "model2 = tf.keras.models.Sequential([\n",
    "    tf.keras.layers.Dense(12, activation='selu', input_shape = [input_shape]),\n",
    "#     tf.keras.layers.Dense(8, activation='selu'),\n",
    "    tf.keras.layers.Dense(4, activation='selu'),\n",
    "    tf.keras.layers.Dense(1, activation = 'sigmoid')\n",
    "])\n",
    "model2"
   ]
  },
  {
   "cell_type": "code",
   "execution_count": 28,
   "id": "6cf110f0",
   "metadata": {
    "ExecuteTime": {
     "end_time": "2022-07-05T16:58:12.004039Z",
     "start_time": "2022-07-05T16:58:11.985033Z"
    }
   },
   "outputs": [],
   "source": [
    "model2.compile(optimizer = 'Nadam', \n",
    "             loss = 'binary_crossentropy',\n",
    "             metrics = ['accuracy'])"
   ]
  },
  {
   "cell_type": "code",
   "execution_count": 29,
   "id": "73b34890",
   "metadata": {
    "ExecuteTime": {
     "end_time": "2022-07-05T16:58:12.453950Z",
     "start_time": "2022-07-05T16:58:12.432946Z"
    }
   },
   "outputs": [
    {
     "name": "stdout",
     "output_type": "stream",
     "text": [
      "Model: \"sequential_1\"\n",
      "_________________________________________________________________\n",
      " Layer (type)                Output Shape              Param #   \n",
      "=================================================================\n",
      " dense_3 (Dense)             (None, 12)                156       \n",
      "                                                                 \n",
      " dense_4 (Dense)             (None, 4)                 52        \n",
      "                                                                 \n",
      " dense_5 (Dense)             (None, 1)                 5         \n",
      "                                                                 \n",
      "=================================================================\n",
      "Total params: 213\n",
      "Trainable params: 213\n",
      "Non-trainable params: 0\n",
      "_________________________________________________________________\n"
     ]
    }
   ],
   "source": [
    "model2.summary()"
   ]
  },
  {
   "cell_type": "code",
   "execution_count": 30,
   "id": "45c65a77",
   "metadata": {
    "ExecuteTime": {
     "end_time": "2022-07-05T16:58:25.540849Z",
     "start_time": "2022-07-05T16:58:14.309989Z"
    }
   },
   "outputs": [
    {
     "name": "stdout",
     "output_type": "stream",
     "text": [
      "\n",
      "....................................................................................................\n",
      "..................."
     ]
    }
   ],
   "source": [
    "# 학습하기\n",
    "history2 = model2.fit(X_train, y_train, epochs=1000, validation_split=0.2,  batch_size = 256,\n",
    "                    callbacks=[early_stop, PrintDot()], verbose=0)"
   ]
  },
  {
   "cell_type": "code",
   "execution_count": 31,
   "id": "8def2fd6",
   "metadata": {
    "ExecuteTime": {
     "end_time": "2022-07-05T16:58:49.344722Z",
     "start_time": "2022-07-05T16:58:49.334719Z"
    }
   },
   "outputs": [],
   "source": [
    "df_hist2 = pd.DataFrame(history2.history)"
   ]
  },
  {
   "cell_type": "code",
   "execution_count": 32,
   "id": "b4b0bd90",
   "metadata": {
    "ExecuteTime": {
     "end_time": "2022-07-05T16:59:12.122049Z",
     "start_time": "2022-07-05T16:59:11.890986Z"
    }
   },
   "outputs": [
    {
     "name": "stderr",
     "output_type": "stream",
     "text": [
      "/usr/local/lib/python3.8/dist-packages/pandas/plotting/_matplotlib/tools.py:331: MatplotlibDeprecationWarning: \n",
      "The is_first_col function was deprecated in Matplotlib 3.4 and will be removed two minor releases later. Use ax.get_subplotspec().is_first_col() instead.\n",
      "  if ax.is_first_col():\n",
      "/usr/local/lib/python3.8/dist-packages/pandas/plotting/_matplotlib/tools.py:331: MatplotlibDeprecationWarning: \n",
      "The is_first_col function was deprecated in Matplotlib 3.4 and will be removed two minor releases later. Use ax.get_subplotspec().is_first_col() instead.\n",
      "  if ax.is_first_col():\n"
     ]
    },
    {
     "data": {
      "text/plain": [
       "<AxesSubplot:>"
      ]
     },
     "execution_count": 32,
     "metadata": {},
     "output_type": "execute_result"
    },
    {
     "data": {
      "image/png": "[encoded data removed]",
      "text/plain": [
       "<Figure size 2160x576 with 2 Axes>"
      ]
     },
     "metadata": {},
     "output_type": "display_data"
    }
   ],
   "source": [
    "# 학습결과를 시각화 합니다.\n",
    "fig, axes = plt.subplots( 1, 2, figsize = (30, 8) )\n",
    "df_hist2[['loss', 'val_loss']].plot(ax = axes[0])\n",
    "df_hist2[['accuracy', 'val_accuracy']].plot(ax = axes[1])"
   ]
  },
  {
   "cell_type": "markdown",
   "id": "2957ebe0",
   "metadata": {},
   "source": [
    "# 예측하기"
   ]
  },
  {
   "cell_type": "code",
   "execution_count": 33,
   "id": "b268540d",
   "metadata": {
    "ExecuteTime": {
     "end_time": "2022-07-05T16:59:51.432077Z",
     "start_time": "2022-07-05T16:59:51.311050Z"
    }
   },
   "outputs": [],
   "source": [
    "y_pred2 = model2.predict(X_test).flatten()"
   ]
  },
  {
   "cell_type": "code",
   "execution_count": 34,
   "id": "8b7e0802",
   "metadata": {
    "ExecuteTime": {
     "end_time": "2022-07-05T16:59:51.432077Z",
     "start_time": "2022-07-05T16:59:51.311050Z"
    }
   },
   "outputs": [
    {
     "name": "stdout",
     "output_type": "stream",
     "text": [
      "63/63 [==============================] - 0s 614us/step - loss: 0.4042 - accuracy: 0.8240\n"
     ]
    }
   ],
   "source": [
    "y_predict2 = (y_pred2 > 0.5).astype(int)\n",
    "test_loss2, test_acc2 = model2.evaluate(X_test, y_test)"
   ]
  },
  {
   "cell_type": "code",
   "execution_count": 35,
   "id": "42776a44",
   "metadata": {},
   "outputs": [
    {
     "data": {
      "text/plain": [
       "0.824"
      ]
     },
     "execution_count": 35,
     "metadata": {},
     "output_type": "execute_result"
    }
   ],
   "source": [
    "(y_test == y_predict2).mean()"
   ]
  },
  {
   "cell_type": "code",
   "execution_count": 36,
   "id": "5455c037",
   "metadata": {
    "ExecuteTime": {
     "end_time": "2022-07-05T17:00:41.730051Z",
     "start_time": "2022-07-05T17:00:41.719049Z"
    }
   },
   "outputs": [
    {
     "data": {
      "text/plain": [
       "0.41952353926806063"
      ]
     },
     "execution_count": 36,
     "metadata": {},
     "output_type": "execute_result"
    }
   ],
   "source": [
    "rmse2 = np.sqrt(mean_squared_error(y_test, y_predict2))\n",
    "rmse2"
   ]
  },
  {
   "cell_type": "code",
   "execution_count": null,
   "id": "c3365693",
   "metadata": {},
   "outputs": [],
   "source": []
  },
  {
   "cell_type": "markdown",
   "id": "fd16c3a5",
   "metadata": {},
   "source": [
    "## Adagrad"
   ]
  },
  {
   "cell_type": "code",
   "execution_count": 37,
   "id": "9ede3753",
   "metadata": {
    "ExecuteTime": {
     "end_time": "2022-07-05T16:58:10.743031Z",
     "start_time": "2022-07-05T16:58:10.646009Z"
    }
   },
   "outputs": [
    {
     "data": {
      "text/plain": [
       "<keras.engine.sequential.Sequential at 0x7fe3144e5fd0>"
      ]
     },
     "execution_count": 37,
     "metadata": {},
     "output_type": "execute_result"
    }
   ],
   "source": [
    "model3 = tf.keras.models.Sequential([\n",
    "    tf.keras.layers.Dense(12, activation='swish', input_shape = [input_shape]),\n",
    "    tf.keras.layers.Dense(8, activation='leaky_relu'),\n",
    "    tf.keras.layers.Dense(4, activation='leaky_relu'),\n",
    "    tf.keras.layers.Dense(1, activation = 'sigmoid')\n",
    "])\n",
    "model3"
   ]
  },
  {
   "cell_type": "code",
   "execution_count": 38,
   "id": "35db302a",
   "metadata": {
    "ExecuteTime": {
     "end_time": "2022-07-05T16:58:12.004039Z",
     "start_time": "2022-07-05T16:58:11.985033Z"
    }
   },
   "outputs": [],
   "source": [
    "model3.compile(optimizer = 'Adagrad', \n",
    "             loss = 'binary_crossentropy',\n",
    "             metrics = ['accuracy'])"
   ]
  },
  {
   "cell_type": "code",
   "execution_count": 39,
   "id": "f084e900",
   "metadata": {
    "ExecuteTime": {
     "end_time": "2022-07-05T16:58:12.453950Z",
     "start_time": "2022-07-05T16:58:12.432946Z"
    }
   },
   "outputs": [
    {
     "name": "stdout",
     "output_type": "stream",
     "text": [
      "Model: \"sequential_2\"\n",
      "_________________________________________________________________\n",
      " Layer (type)                Output Shape              Param #   \n",
      "=================================================================\n",
      " dense_6 (Dense)             (None, 12)                156       \n",
      "                                                                 \n",
      " dense_7 (Dense)             (None, 8)                 104       \n",
      "                                                                 \n",
      " dense_8 (Dense)             (None, 4)                 36        \n",
      "                                                                 \n",
      " dense_9 (Dense)             (None, 1)                 5         \n",
      "                                                                 \n",
      "=================================================================\n",
      "Total params: 301\n",
      "Trainable params: 301\n",
      "Non-trainable params: 0\n",
      "_________________________________________________________________\n"
     ]
    }
   ],
   "source": [
    "model3.summary()"
   ]
  },
  {
   "cell_type": "code",
   "execution_count": 40,
   "id": "0f8e1e32",
   "metadata": {
    "ExecuteTime": {
     "end_time": "2022-07-05T16:58:25.540849Z",
     "start_time": "2022-07-05T16:58:14.309989Z"
    }
   },
   "outputs": [
    {
     "name": "stdout",
     "output_type": "stream",
     "text": [
      "\n",
      "....................................................................................................\n",
      "....................................................................................................\n",
      "....................................................................................................\n",
      "....................................................................................................\n",
      "....................................................................................................\n",
      "....................................................................................................\n",
      "....................................................................................................\n",
      "....................................................................................................\n",
      "....................................................................................................\n",
      "...................................................................................................."
     ]
    },
    {
     "data": {
      "text/plain": [
       "<keras.callbacks.History at 0x7fe31449fb20>"
      ]
     },
     "execution_count": 40,
     "metadata": {},
     "output_type": "execute_result"
    }
   ],
   "source": [
    "# 학습하기\n",
    "history3 = model3.fit(X_train, y_train, epochs=1000, validation_split=0.2,  batch_size = 256,\n",
    "                    callbacks=[early_stop, PrintDot()], verbose=0)\n",
    "history3"
   ]
  },
  {
   "cell_type": "code",
   "execution_count": 41,
   "id": "45a0c14f",
   "metadata": {
    "ExecuteTime": {
     "end_time": "2022-07-05T16:58:49.344722Z",
     "start_time": "2022-07-05T16:58:49.334719Z"
    }
   },
   "outputs": [],
   "source": [
    "df_hist3 = pd.DataFrame(history3.history)"
   ]
  },
  {
   "cell_type": "code",
   "execution_count": 42,
   "id": "83804148",
   "metadata": {
    "ExecuteTime": {
     "end_time": "2022-07-05T16:59:12.122049Z",
     "start_time": "2022-07-05T16:59:11.890986Z"
    }
   },
   "outputs": [
    {
     "name": "stderr",
     "output_type": "stream",
     "text": [
      "/usr/local/lib/python3.8/dist-packages/pandas/plotting/_matplotlib/tools.py:331: MatplotlibDeprecationWarning: \n",
      "The is_first_col function was deprecated in Matplotlib 3.4 and will be removed two minor releases later. Use ax.get_subplotspec().is_first_col() instead.\n",
      "  if ax.is_first_col():\n",
      "/usr/local/lib/python3.8/dist-packages/pandas/plotting/_matplotlib/tools.py:331: MatplotlibDeprecationWarning: \n",
      "The is_first_col function was deprecated in Matplotlib 3.4 and will be removed two minor releases later. Use ax.get_subplotspec().is_first_col() instead.\n",
      "  if ax.is_first_col():\n"
     ]
    },
    {
     "data": {
      "text/plain": [
       "<AxesSubplot:>"
      ]
     },
     "execution_count": 42,
     "metadata": {},
     "output_type": "execute_result"
    },
    {
     "data": {
      "image/png": "[encoded data removed]",
      "text/plain": [
       "<Figure size 2160x576 with 2 Axes>"
      ]
     },
     "metadata": {},
     "output_type": "display_data"
    }
   ],
   "source": [
    "# 학습결과를 시각화 합니다.\n",
    "fig, axes = plt.subplots( 1, 2, figsize = (30, 8) )\n",
    "df_hist3[['loss', 'val_loss']].plot(ax = axes[0])\n",
    "df_hist3[['accuracy', 'val_accuracy']].plot(ax = axes[1])"
   ]
  },
  {
   "cell_type": "markdown",
   "id": "ec545a6a",
   "metadata": {},
   "source": [
    "# 예측하기"
   ]
  },
  {
   "cell_type": "code",
   "execution_count": 43,
   "id": "6cbca77e",
   "metadata": {
    "ExecuteTime": {
     "end_time": "2022-07-05T16:59:51.432077Z",
     "start_time": "2022-07-05T16:59:51.311050Z"
    }
   },
   "outputs": [],
   "source": [
    "y_pred3 = model3.predict(X_test).flatten()\n",
    "y_predict3 = (y_pred3 > 0.5).astype(int)"
   ]
  },
  {
   "cell_type": "code",
   "execution_count": 44,
   "id": "f3fd12d8",
   "metadata": {
    "ExecuteTime": {
     "end_time": "2022-07-05T16:59:51.432077Z",
     "start_time": "2022-07-05T16:59:51.311050Z"
    }
   },
   "outputs": [
    {
     "name": "stdout",
     "output_type": "stream",
     "text": [
      "63/63 [==============================] - 0s 621us/step - loss: 0.4163 - accuracy: 0.8195\n"
     ]
    }
   ],
   "source": [
    "test_loss3, test_acc3 = model3.evaluate(X_test, y_test)"
   ]
  },
  {
   "cell_type": "code",
   "execution_count": 45,
   "id": "e33831cb",
   "metadata": {},
   "outputs": [
    {
     "data": {
      "text/plain": [
       "0.8195"
      ]
     },
     "execution_count": 45,
     "metadata": {},
     "output_type": "execute_result"
    }
   ],
   "source": [
    "(y_test == y_predict3).mean()"
   ]
  },
  {
   "cell_type": "code",
   "execution_count": 46,
   "id": "b5c36955",
   "metadata": {},
   "outputs": [
    {
     "data": {
      "text/plain": [
       "6252    0\n",
       "4684    0\n",
       "1731    0\n",
       "4742    0\n",
       "4521    0\n",
       "       ..\n",
       "6412    1\n",
       "8285    0\n",
       "7853    1\n",
       "1095    1\n",
       "6929    1\n",
       "Name: Exited, Length: 2000, dtype: int64"
      ]
     },
     "execution_count": 46,
     "metadata": {},
     "output_type": "execute_result"
    }
   ],
   "source": [
    "y_test"
   ]
  },
  {
   "cell_type": "code",
   "execution_count": 47,
   "id": "05a00633",
   "metadata": {},
   "outputs": [
    {
     "data": {
      "text/plain": [
       "array([0, 0, 0, ..., 0, 0, 0])"
      ]
     },
     "execution_count": 47,
     "metadata": {},
     "output_type": "execute_result"
    }
   ],
   "source": [
    "y_predict3"
   ]
  },
  {
   "cell_type": "code",
   "execution_count": 48,
   "id": "c9ac87be",
   "metadata": {
    "ExecuteTime": {
     "end_time": "2022-07-05T17:00:41.730051Z",
     "start_time": "2022-07-05T17:00:41.719049Z"
    }
   },
   "outputs": [
    {
     "data": {
      "text/plain": [
       "0.42485291572496003"
      ]
     },
     "execution_count": 48,
     "metadata": {},
     "output_type": "execute_result"
    }
   ],
   "source": [
    "rmse3 = np.sqrt(mean_squared_error(y_test, y_predict3))\n",
    "rmse3"
   ]
  },
  {
   "cell_type": "code",
   "execution_count": null,
   "id": "821b3fb0",
   "metadata": {},
   "outputs": [],
   "source": []
  },
  {
   "cell_type": "markdown",
   "id": "e8663eb4",
   "metadata": {},
   "source": [
    "## SGD"
   ]
  },
  {
   "cell_type": "code",
   "execution_count": 49,
   "id": "74ddb43c",
   "metadata": {
    "ExecuteTime": {
     "end_time": "2022-07-05T16:58:10.743031Z",
     "start_time": "2022-07-05T16:58:10.646009Z"
    }
   },
   "outputs": [
    {
     "data": {
      "text/plain": [
       "<keras.engine.sequential.Sequential at 0x7fe31426cac0>"
      ]
     },
     "execution_count": 49,
     "metadata": {},
     "output_type": "execute_result"
    }
   ],
   "source": [
    "model4 = tf.keras.models.Sequential([\n",
    "    tf.keras.layers.Dense(16, activation='relu', input_shape = [input_shape]),\n",
    "    tf.keras.layers.Dense(16, activation='relu'),\n",
    "    tf.keras.layers.Dropout(0.3), \n",
    "    tf.keras.layers.Dense(16, activation='relu'),\n",
    "    tf.keras.layers.Dense(8, activation='relu'),\n",
    "    tf.keras.layers.Dropout(0.3), \n",
    "    tf.keras.layers.Dense(8, activation='leaky_relu'),\n",
    "    tf.keras.layers.Dense(4, activation='leaky_relu'),\n",
    "    tf.keras.layers.Dropout(0.3), \n",
    "    tf.keras.layers.Dense(1, activation = 'sigmoid')\n",
    "])\n",
    "model4"
   ]
  },
  {
   "cell_type": "code",
   "execution_count": 50,
   "id": "3d9c550f",
   "metadata": {
    "ExecuteTime": {
     "end_time": "2022-07-05T16:58:12.004039Z",
     "start_time": "2022-07-05T16:58:11.985033Z"
    }
   },
   "outputs": [],
   "source": [
    "model4.compile(optimizer = 'sgd', \n",
    "             loss = 'binary_crossentropy',\n",
    "             metrics = ['accuracy'])"
   ]
  },
  {
   "cell_type": "code",
   "execution_count": 51,
   "id": "16a8a8fa",
   "metadata": {
    "ExecuteTime": {
     "end_time": "2022-07-05T16:58:12.453950Z",
     "start_time": "2022-07-05T16:58:12.432946Z"
    }
   },
   "outputs": [
    {
     "name": "stdout",
     "output_type": "stream",
     "text": [
      "Model: \"sequential_3\"\n",
      "_________________________________________________________________\n",
      " Layer (type)                Output Shape              Param #   \n",
      "=================================================================\n",
      " dense_10 (Dense)            (None, 16)                208       \n",
      "                                                                 \n",
      " dense_11 (Dense)            (None, 16)                272       \n",
      "                                                                 \n",
      " dropout (Dropout)           (None, 16)                0         \n",
      "                                                                 \n",
      " dense_12 (Dense)            (None, 16)                272       \n",
      "                                                                 \n",
      " dense_13 (Dense)            (None, 8)                 136       \n",
      "                                                                 \n",
      " dropout_1 (Dropout)         (None, 8)                 0         \n",
      "                                                                 \n",
      " dense_14 (Dense)            (None, 8)                 72        \n",
      "                                                                 \n",
      " dense_15 (Dense)            (None, 4)                 36        \n",
      "                                                                 \n",
      " dropout_2 (Dropout)         (None, 4)                 0         \n",
      "                                                                 \n",
      " dense_16 (Dense)            (None, 1)                 5         \n",
      "                                                                 \n",
      "=================================================================\n",
      "Total params: 1,001\n",
      "Trainable params: 1,001\n",
      "Non-trainable params: 0\n",
      "_________________________________________________________________\n"
     ]
    }
   ],
   "source": [
    "model4.summary()"
   ]
  },
  {
   "cell_type": "code",
   "execution_count": 52,
   "id": "88e4a2d8",
   "metadata": {
    "ExecuteTime": {
     "end_time": "2022-07-05T16:58:25.540849Z",
     "start_time": "2022-07-05T16:58:14.309989Z"
    }
   },
   "outputs": [
    {
     "name": "stdout",
     "output_type": "stream",
     "text": [
      "\n",
      "....................................................................................................\n",
      "....................................................................................................\n",
      "....................................................................................................\n",
      "....................................................................................................\n",
      "....................................................................................................\n",
      "....................................................................................................\n",
      "....................................................................................................\n",
      "....................................................................................................\n",
      "....................................................................................................\n",
      "...................................................................................................."
     ]
    },
    {
     "data": {
      "text/plain": [
       "<keras.callbacks.History at 0x7fe31422f400>"
      ]
     },
     "execution_count": 52,
     "metadata": {},
     "output_type": "execute_result"
    }
   ],
   "source": [
    "# 학습하기\n",
    "history4 = model4.fit(X_train, y_train, epochs=1000, validation_split=0.2,  batch_size = 256,\n",
    "                    callbacks=[early_stop, PrintDot()], verbose=0)\n",
    "history4"
   ]
  },
  {
   "cell_type": "code",
   "execution_count": 53,
   "id": "4d9812e3",
   "metadata": {
    "ExecuteTime": {
     "end_time": "2022-07-05T16:58:49.344722Z",
     "start_time": "2022-07-05T16:58:49.334719Z"
    }
   },
   "outputs": [],
   "source": [
    "df_hist4 = pd.DataFrame(history4.history)"
   ]
  },
  {
   "cell_type": "code",
   "execution_count": 54,
   "id": "745d6756",
   "metadata": {
    "ExecuteTime": {
     "end_time": "2022-07-05T16:59:12.122049Z",
     "start_time": "2022-07-05T16:59:11.890986Z"
    }
   },
   "outputs": [
    {
     "name": "stderr",
     "output_type": "stream",
     "text": [
      "/usr/local/lib/python3.8/dist-packages/pandas/plotting/_matplotlib/tools.py:331: MatplotlibDeprecationWarning: \n",
      "The is_first_col function was deprecated in Matplotlib 3.4 and will be removed two minor releases later. Use ax.get_subplotspec().is_first_col() instead.\n",
      "  if ax.is_first_col():\n",
      "/usr/local/lib/python3.8/dist-packages/pandas/plotting/_matplotlib/tools.py:331: MatplotlibDeprecationWarning: \n",
      "The is_first_col function was deprecated in Matplotlib 3.4 and will be removed two minor releases later. Use ax.get_subplotspec().is_first_col() instead.\n",
      "  if ax.is_first_col():\n"
     ]
    },
    {
     "data": {
      "text/plain": [
       "<AxesSubplot:>"
      ]
     },
     "execution_count": 54,
     "metadata": {},
     "output_type": "execute_result"
    },
    {
     "data": {
      "image/png": "[encoded data removed]",
      "text/plain": [
       "<Figure size 2160x576 with 2 Axes>"
      ]
     },
     "metadata": {},
     "output_type": "display_data"
    }
   ],
   "source": [
    "# 학습결과를 시각화 합니다.\n",
    "fig, axes = plt.subplots( 1, 2, figsize = (30, 8) )\n",
    "df_hist3[['loss', 'val_loss']].plot(ax = axes[0])\n",
    "df_hist3[['accuracy', 'val_accuracy']].plot(ax = axes[1])"
   ]
  },
  {
   "cell_type": "markdown",
   "id": "18b5d9a1",
   "metadata": {},
   "source": [
    "# 예측하기"
   ]
  },
  {
   "cell_type": "code",
   "execution_count": 55,
   "id": "d7424588",
   "metadata": {
    "ExecuteTime": {
     "end_time": "2022-07-05T16:59:51.432077Z",
     "start_time": "2022-07-05T16:59:51.311050Z"
    }
   },
   "outputs": [],
   "source": [
    "y_pred4 = model4.predict(X_test).flatten()\n",
    "y_predict4 = (y_pred3 > 0.5).astype(int)"
   ]
  },
  {
   "cell_type": "code",
   "execution_count": 56,
   "id": "30c78174",
   "metadata": {
    "ExecuteTime": {
     "end_time": "2022-07-05T16:59:51.432077Z",
     "start_time": "2022-07-05T16:59:51.311050Z"
    }
   },
   "outputs": [
    {
     "name": "stdout",
     "output_type": "stream",
     "text": [
      "63/63 [==============================] - 0s 643us/step - loss: 0.4184 - accuracy: 0.8255\n"
     ]
    }
   ],
   "source": [
    "test_loss4, test_acc4 = model4.evaluate(X_test, y_test)"
   ]
  },
  {
   "cell_type": "code",
   "execution_count": 57,
   "id": "687b8b9e",
   "metadata": {},
   "outputs": [
    {
     "data": {
      "text/plain": [
       "0.8195"
      ]
     },
     "execution_count": 57,
     "metadata": {},
     "output_type": "execute_result"
    }
   ],
   "source": [
    "(y_test == y_predict4).mean()"
   ]
  },
  {
   "cell_type": "code",
   "execution_count": 58,
   "id": "d6238a12",
   "metadata": {
    "ExecuteTime": {
     "end_time": "2022-07-05T17:00:41.730051Z",
     "start_time": "2022-07-05T17:00:41.719049Z"
    },
    "scrolled": true
   },
   "outputs": [
    {
     "data": {
      "text/plain": [
       "0.42485291572496003"
      ]
     },
     "execution_count": 58,
     "metadata": {},
     "output_type": "execute_result"
    }
   ],
   "source": [
    "rmse4 = np.sqrt(mean_squared_error(y_test, y_predict4))\n",
    "rmse4"
   ]
  }
 ],
 "metadata": {
  "kernelspec": {
   "display_name": "TensorFlow 2.7 on Python 3.8 & CUDA 11.3",
   "language": "python",
   "name": "python3"
  },
  "language_info": {
   "codemirror_mode": {
    "name": "ipython",
    "version": 3
   },
   "file_extension": ".py",
   "mimetype": "text/x-python",
   "name": "python",
   "nbconvert_exporter": "python",
   "pygments_lexer": "ipython3",
   "version": "3.8.10"
  },
  "toc": {
   "base_numbering": 1,
   "nav_menu": {},
   "number_sections": true,
   "sideBar": true,
   "skip_h1_title": false,
   "title_cell": "Table of Contents",
   "title_sidebar": "Contents",
   "toc_cell": false,
   "toc_position": {},
   "toc_section_display": true,
   "toc_window_display": false
  },
  "varInspector": {
   "cols": {
    "lenName": 16,
    "lenType": 16,
    "lenVar": 40
   },
   "kernels_config": {
    "python": {
     "delete_cmd_postfix": "",
     "delete_cmd_prefix": "del ",
     "library": "var_list.py",
     "varRefreshCmd": "print(var_dic_list())"
    },
    "r": {
     "delete_cmd_postfix": ") ",
     "delete_cmd_prefix": "rm(",
     "library": "var_list.r",
     "varRefreshCmd": "cat(var_dic_list()) "
    }
   },
   "types_to_exclude": [
    "module",
    "function",
    "builtin_function_or_method",
    "instance",
    "_Feature"
   ],
   "window_display": false
  }
 },
 "nbformat": 4,
 "nbformat_minor": 5
}
