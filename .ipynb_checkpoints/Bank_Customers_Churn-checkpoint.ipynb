{
 "cells": [
  {
   "cell_type": "markdown",
   "id": "fd1b651a",
   "metadata": {},
   "source": [
    "# Bank Customers Churn\n",
    "## Artificial Neural Network Model using Keras and Tensorflow with 85% Acuuracy\n",
    "---\n",
    "## About Dataset\n",
    "---\n",
    "### Context\n",
    "* A dataset which contain some customers who are withdrawing their account from the bank due to some loss and other issues with the help this data we try to analyse and maintain accuracy.\n",
    "---\n",
    "### Content\n",
    "* What's inside is more than just rows and columns. Make it easy for others to get started by describing how you acquired the data and what time period it represents, too.\n",
    "---\n",
    "### Acknowledgements\n",
    "* We wouldn't be here without the help of others. If you owe any attributions or thanks, include them here along with any citations of past research.\n",
    "---\n",
    "### Inspiration\n",
    "* Your data will be in front of the world's largest data science community. What questions do you want to see answered?\n",
    "---\n",
    "[Source](https://www.kaggle.com/datasets/santoshd3/bank-customers)"
   ]
  },
  {
   "cell_type": "markdown",
   "id": "0723166e",
   "metadata": {},
   "source": [
    "* CustomerId : identity number\n",
    "* Surname : last name\n",
    "* CreditScore\n",
    "* Geography : Country or region\n",
    "* Gender : Male or female\n",
    "* Age : customer age\n",
    "* Tenure : ?\n",
    "* Balance : Amount in account\n",
    "* NumOfProducts\n",
    "* HasCrCard\n",
    "* IsActiveMember\n",
    "* EstimatedSalary\n",
    "* Exited"
   ]
  },
  {
   "cell_type": "markdown",
   "id": "a6eb096f",
   "metadata": {},
   "source": [
    "# Library 및 Data Load"
   ]
  },
  {
   "cell_type": "code",
   "execution_count": 32,
   "id": "fb73a964",
   "metadata": {
    "ExecuteTime": {
     "end_time": "2022-07-05T16:40:48.492708Z",
     "start_time": "2022-07-05T16:40:45.229919Z"
    }
   },
   "outputs": [],
   "source": [
    "import pandas as pd\n",
    "import numpy as np\n",
    "import matplotlib.pyplot as plt\n",
    "import seaborn as sns\n",
    "from sklearn.model_selection import train_test_split\n",
    "import tensorflow as tf"
   ]
  },
  {
   "cell_type": "code",
   "execution_count": 17,
   "id": "95639011",
   "metadata": {
    "ExecuteTime": {
     "end_time": "2022-07-05T16:29:11.027089Z",
     "start_time": "2022-07-05T16:29:11.009085Z"
    }
   },
   "outputs": [],
   "source": [
    "# plt.style.use(\"grayscale\")\n",
    "# plt.style.use(\"ggplot\")\n",
    "plt.style.use(\"seaborn\")\n",
    "parameters = {'axes.labelsize': 25,\n",
    "          'axes.titlesize': 25,\n",
    "             'xtick.labelsize' : 15,\n",
    "             'ytick.labelsize' : 15,\n",
    "             'font.size' : 15}\n",
    "plt.rcParams.update(parameters)\n",
    "plt.rcParams[\"figure.figsize\"] = (15, 8)"
   ]
  },
  {
   "cell_type": "code",
   "execution_count": 6,
   "id": "79c34631",
   "metadata": {
    "ExecuteTime": {
     "end_time": "2022-07-05T15:55:28.217790Z",
     "start_time": "2022-07-05T15:55:28.186783Z"
    }
   },
   "outputs": [
    {
     "data": {
      "text/html": [
       "<div>\n",
       "<style scoped>\n",
       "    .dataframe tbody tr th:only-of-type {\n",
       "        vertical-align: middle;\n",
       "    }\n",
       "\n",
       "    .dataframe tbody tr th {\n",
       "        vertical-align: top;\n",
       "    }\n",
       "\n",
       "    .dataframe thead th {\n",
       "        text-align: right;\n",
       "    }\n",
       "</style>\n",
       "<table border=\"1\" class=\"dataframe\">\n",
       "  <thead>\n",
       "    <tr style=\"text-align: right;\">\n",
       "      <th></th>\n",
       "      <th>RowNumber</th>\n",
       "      <th>CustomerId</th>\n",
       "      <th>Surname</th>\n",
       "      <th>CreditScore</th>\n",
       "      <th>Geography</th>\n",
       "      <th>Gender</th>\n",
       "      <th>Age</th>\n",
       "      <th>Tenure</th>\n",
       "      <th>Balance</th>\n",
       "      <th>NumOfProducts</th>\n",
       "      <th>HasCrCard</th>\n",
       "      <th>IsActiveMember</th>\n",
       "      <th>EstimatedSalary</th>\n",
       "      <th>Exited</th>\n",
       "    </tr>\n",
       "  </thead>\n",
       "  <tbody>\n",
       "    <tr>\n",
       "      <th>0</th>\n",
       "      <td>1</td>\n",
       "      <td>15634602</td>\n",
       "      <td>Hargrave</td>\n",
       "      <td>619</td>\n",
       "      <td>France</td>\n",
       "      <td>Female</td>\n",
       "      <td>42</td>\n",
       "      <td>2</td>\n",
       "      <td>0.00</td>\n",
       "      <td>1</td>\n",
       "      <td>1</td>\n",
       "      <td>1</td>\n",
       "      <td>101348.88</td>\n",
       "      <td>1</td>\n",
       "    </tr>\n",
       "    <tr>\n",
       "      <th>1</th>\n",
       "      <td>2</td>\n",
       "      <td>15647311</td>\n",
       "      <td>Hill</td>\n",
       "      <td>608</td>\n",
       "      <td>Spain</td>\n",
       "      <td>Female</td>\n",
       "      <td>41</td>\n",
       "      <td>1</td>\n",
       "      <td>83807.86</td>\n",
       "      <td>1</td>\n",
       "      <td>0</td>\n",
       "      <td>1</td>\n",
       "      <td>112542.58</td>\n",
       "      <td>0</td>\n",
       "    </tr>\n",
       "    <tr>\n",
       "      <th>2</th>\n",
       "      <td>3</td>\n",
       "      <td>15619304</td>\n",
       "      <td>Onio</td>\n",
       "      <td>502</td>\n",
       "      <td>France</td>\n",
       "      <td>Female</td>\n",
       "      <td>42</td>\n",
       "      <td>8</td>\n",
       "      <td>159660.80</td>\n",
       "      <td>3</td>\n",
       "      <td>1</td>\n",
       "      <td>0</td>\n",
       "      <td>113931.57</td>\n",
       "      <td>1</td>\n",
       "    </tr>\n",
       "    <tr>\n",
       "      <th>3</th>\n",
       "      <td>4</td>\n",
       "      <td>15701354</td>\n",
       "      <td>Boni</td>\n",
       "      <td>699</td>\n",
       "      <td>France</td>\n",
       "      <td>Female</td>\n",
       "      <td>39</td>\n",
       "      <td>1</td>\n",
       "      <td>0.00</td>\n",
       "      <td>2</td>\n",
       "      <td>0</td>\n",
       "      <td>0</td>\n",
       "      <td>93826.63</td>\n",
       "      <td>0</td>\n",
       "    </tr>\n",
       "    <tr>\n",
       "      <th>4</th>\n",
       "      <td>5</td>\n",
       "      <td>15737888</td>\n",
       "      <td>Mitchell</td>\n",
       "      <td>850</td>\n",
       "      <td>Spain</td>\n",
       "      <td>Female</td>\n",
       "      <td>43</td>\n",
       "      <td>2</td>\n",
       "      <td>125510.82</td>\n",
       "      <td>1</td>\n",
       "      <td>1</td>\n",
       "      <td>1</td>\n",
       "      <td>79084.10</td>\n",
       "      <td>0</td>\n",
       "    </tr>\n",
       "  </tbody>\n",
       "</table>\n",
       "</div>"
      ],
      "text/plain": [
       "   RowNumber  CustomerId   Surname  CreditScore Geography  Gender  Age  \\\n",
       "0          1    15634602  Hargrave          619    France  Female   42   \n",
       "1          2    15647311      Hill          608     Spain  Female   41   \n",
       "2          3    15619304      Onio          502    France  Female   42   \n",
       "3          4    15701354      Boni          699    France  Female   39   \n",
       "4          5    15737888  Mitchell          850     Spain  Female   43   \n",
       "\n",
       "   Tenure    Balance  NumOfProducts  HasCrCard  IsActiveMember  \\\n",
       "0       2       0.00              1          1               1   \n",
       "1       1   83807.86              1          0               1   \n",
       "2       8  159660.80              3          1               0   \n",
       "3       1       0.00              2          0               0   \n",
       "4       2  125510.82              1          1               1   \n",
       "\n",
       "   EstimatedSalary  Exited  \n",
       "0        101348.88       1  \n",
       "1        112542.58       0  \n",
       "2        113931.57       1  \n",
       "3         93826.63       0  \n",
       "4         79084.10       0  "
      ]
     },
     "metadata": {},
     "output_type": "display_data"
    },
    {
     "data": {
      "text/plain": [
       "(10000, 14)"
      ]
     },
     "execution_count": 6,
     "metadata": {},
     "output_type": "execute_result"
    }
   ],
   "source": [
    "bank = pd.read_csv('Churn Modeling.csv')\n",
    "display(bank.head())\n",
    "bank.shape"
   ]
  },
  {
   "cell_type": "markdown",
   "id": "41b396ec",
   "metadata": {},
   "source": [
    "# Data Check"
   ]
  },
  {
   "cell_type": "code",
   "execution_count": 3,
   "id": "6b85d9ee",
   "metadata": {
    "ExecuteTime": {
     "end_time": "2022-07-05T15:54:02.661767Z",
     "start_time": "2022-07-05T15:54:02.646763Z"
    }
   },
   "outputs": [
    {
     "data": {
      "text/plain": [
       "(10000, 14)"
      ]
     },
     "execution_count": 3,
     "metadata": {},
     "output_type": "execute_result"
    }
   ],
   "source": [
    "bank.shape"
   ]
  },
  {
   "cell_type": "markdown",
   "id": "49869785",
   "metadata": {},
   "source": [
    "## Data Info"
   ]
  },
  {
   "cell_type": "code",
   "execution_count": 13,
   "id": "c50ba791",
   "metadata": {
    "ExecuteTime": {
     "end_time": "2022-07-05T16:18:16.043972Z",
     "start_time": "2022-07-05T16:18:16.024967Z"
    }
   },
   "outputs": [
    {
     "name": "stdout",
     "output_type": "stream",
     "text": [
      "<class 'pandas.core.frame.DataFrame'>\n",
      "RangeIndex: 10000 entries, 0 to 9999\n",
      "Data columns (total 14 columns):\n",
      " #   Column           Non-Null Count  Dtype  \n",
      "---  ------           --------------  -----  \n",
      " 0   RowNumber        10000 non-null  int64  \n",
      " 1   CustomerId       10000 non-null  int64  \n",
      " 2   Surname          10000 non-null  object \n",
      " 3   CreditScore      10000 non-null  int64  \n",
      " 4   Geography        10000 non-null  object \n",
      " 5   Gender           10000 non-null  object \n",
      " 6   Age              10000 non-null  int64  \n",
      " 7   Tenure           10000 non-null  int64  \n",
      " 8   Balance          10000 non-null  float64\n",
      " 9   NumOfProducts    10000 non-null  int64  \n",
      " 10  HasCrCard        10000 non-null  int64  \n",
      " 11  IsActiveMember   10000 non-null  int64  \n",
      " 12  EstimatedSalary  10000 non-null  float64\n",
      " 13  Exited           10000 non-null  int64  \n",
      "dtypes: float64(2), int64(9), object(3)\n",
      "memory usage: 1.1+ MB\n"
     ]
    }
   ],
   "source": [
    "# RowNumber 는 index기에 필요없어보임.\n",
    "bank.info()"
   ]
  },
  {
   "cell_type": "markdown",
   "id": "ef3a6441",
   "metadata": {},
   "source": [
    "## Check Duplicate"
   ]
  },
  {
   "cell_type": "code",
   "execution_count": 11,
   "id": "d3c63030",
   "metadata": {
    "ExecuteTime": {
     "end_time": "2022-07-05T16:17:01.016885Z",
     "start_time": "2022-07-05T16:17:01.003881Z"
    }
   },
   "outputs": [
    {
     "data": {
      "text/plain": [
       "RowNumber          10000\n",
       "CustomerId         10000\n",
       "Surname             2932\n",
       "CreditScore          460\n",
       "Geography              3\n",
       "Gender                 2\n",
       "Age                   70\n",
       "Tenure                11\n",
       "Balance             6382\n",
       "NumOfProducts          4\n",
       "HasCrCard              2\n",
       "IsActiveMember         2\n",
       "EstimatedSalary     9999\n",
       "Exited                 2\n",
       "dtype: int64"
      ]
     },
     "execution_count": 11,
     "metadata": {},
     "output_type": "execute_result"
    }
   ],
   "source": [
    "bank.nunique()"
   ]
  },
  {
   "cell_type": "code",
   "execution_count": 14,
   "id": "a0f1cba0",
   "metadata": {
    "ExecuteTime": {
     "end_time": "2022-07-05T16:20:29.980684Z",
     "start_time": "2022-07-05T16:20:29.970682Z"
    }
   },
   "outputs": [
    {
     "data": {
      "text/plain": [
       "Smith       32\n",
       "Scott       29\n",
       "Martin      29\n",
       "Walker      28\n",
       "Brown       26\n",
       "            ..\n",
       "Izmailov     1\n",
       "Bold         1\n",
       "Bonham       1\n",
       "Poninski     1\n",
       "Burbidge     1\n",
       "Name: Surname, Length: 2932, dtype: int64"
      ]
     },
     "execution_count": 14,
     "metadata": {},
     "output_type": "execute_result"
    }
   ],
   "source": [
    "bank.Surname.value_counts()"
   ]
  },
  {
   "cell_type": "code",
   "execution_count": 18,
   "id": "b5c4bfb8",
   "metadata": {
    "ExecuteTime": {
     "end_time": "2022-07-05T16:29:39.539915Z",
     "start_time": "2022-07-05T16:29:39.519912Z"
    }
   },
   "outputs": [
    {
     "data": {
      "text/plain": [
       "2     1048\n",
       "1     1035\n",
       "7     1028\n",
       "8     1025\n",
       "5     1012\n",
       "3     1009\n",
       "4      989\n",
       "9      984\n",
       "6      967\n",
       "10     490\n",
       "0      413\n",
       "Name: Tenure, dtype: int64"
      ]
     },
     "execution_count": 18,
     "metadata": {},
     "output_type": "execute_result"
    }
   ],
   "source": [
    "bank.Tenure.value_counts()"
   ]
  },
  {
   "cell_type": "markdown",
   "id": "c32daf7a",
   "metadata": {},
   "source": [
    "## 결측치 확인"
   ]
  },
  {
   "cell_type": "code",
   "execution_count": 12,
   "id": "d162f79b",
   "metadata": {
    "ExecuteTime": {
     "end_time": "2022-07-05T16:17:45.303135Z",
     "start_time": "2022-07-05T16:17:45.283131Z"
    }
   },
   "outputs": [
    {
     "data": {
      "text/plain": [
       "RowNumber          0\n",
       "CustomerId         0\n",
       "Surname            0\n",
       "CreditScore        0\n",
       "Geography          0\n",
       "Gender             0\n",
       "Age                0\n",
       "Tenure             0\n",
       "Balance            0\n",
       "NumOfProducts      0\n",
       "HasCrCard          0\n",
       "IsActiveMember     0\n",
       "EstimatedSalary    0\n",
       "Exited             0\n",
       "dtype: int64"
      ]
     },
     "execution_count": 12,
     "metadata": {},
     "output_type": "execute_result"
    }
   ],
   "source": [
    "bank.isnull().sum()\n",
    "    # 결측치 없음 꿀"
   ]
  },
  {
   "cell_type": "markdown",
   "id": "a312364c",
   "metadata": {},
   "source": [
    "## Data Histogram"
   ]
  },
  {
   "cell_type": "code",
   "execution_count": 16,
   "id": "0922e5a5",
   "metadata": {
    "ExecuteTime": {
     "end_time": "2022-07-05T16:28:03.275577Z",
     "start_time": "2022-07-05T16:28:01.131048Z"
    }
   },
   "outputs": [
    {
     "data": {
      "image/png": "[encoded data removed]",
      "text/plain": [
       "<Figure size 1440x1440 with 12 Axes>"
      ]
     },
     "metadata": {
      "needs_background": "light"
     },
     "output_type": "display_data"
    }
   ],
   "source": [
    "_ = bank.hist(bins = 100, figsize = (20, 20))"
   ]
  },
  {
   "cell_type": "code",
   "execution_count": 26,
   "id": "16e92bd3",
   "metadata": {
    "ExecuteTime": {
     "end_time": "2022-07-05T16:33:08.704093Z",
     "start_time": "2022-07-05T16:33:08.195793Z"
    }
   },
   "outputs": [
    {
     "data": {
      "text/plain": [
       "<AxesSubplot:xlabel='Exited', ylabel='Count'>"
      ]
     },
     "execution_count": 26,
     "metadata": {},
     "output_type": "execute_result"
    },
    {
     "data": {
      "image/png": "[encoded data removed]",
      "text/plain": [
       "<Figure size 2160x720 with 5 Axes>"
      ]
     },
     "metadata": {},
     "output_type": "display_data"
    }
   ],
   "source": [
    "plt.figure(figsize = (30, 10))\n",
    "plt.subplot(231)\n",
    "sns.histplot(data = bank, x = 'Tenure')\n",
    "plt.subplot(232)\n",
    "sns.histplot(data = bank, x = 'NumOfProducts')\n",
    "plt.subplot(233)\n",
    "sns.histplot(data = bank, x = 'HasCrCard')\n",
    "plt.subplot(234)\n",
    "sns.histplot(data = bank, x = 'IsActiveMember')\n",
    "plt.subplot(235)\n",
    "sns.histplot(data = bank, x = 'Exited')"
   ]
  },
  {
   "cell_type": "code",
   "execution_count": 160,
   "id": "7f9efe43",
   "metadata": {
    "ExecuteTime": {
     "end_time": "2022-07-05T16:55:52.520864Z",
     "start_time": "2022-07-05T16:55:52.501859Z"
    }
   },
   "outputs": [
    {
     "data": {
      "text/plain": [
       "Male      5457\n",
       "Female    4543\n",
       "Name: Gender, dtype: int64"
      ]
     },
     "execution_count": 160,
     "metadata": {},
     "output_type": "execute_result"
    }
   ],
   "source": [
    "df.Gender.value_counts()"
   ]
  },
  {
   "cell_type": "markdown",
   "id": "372a5c8f",
   "metadata": {},
   "source": [
    "# 모델 생성"
   ]
  },
  {
   "cell_type": "code",
   "execution_count": 231,
   "id": "c634206b",
   "metadata": {
    "ExecuteTime": {
     "end_time": "2022-07-05T16:58:09.137982Z",
     "start_time": "2022-07-05T16:58:09.126979Z"
    }
   },
   "outputs": [],
   "source": [
    "df = bank.copy()"
   ]
  },
  {
   "cell_type": "code",
   "execution_count": 232,
   "id": "9980e5a2",
   "metadata": {
    "ExecuteTime": {
     "end_time": "2022-07-05T16:58:09.318045Z",
     "start_time": "2022-07-05T16:58:09.306042Z"
    }
   },
   "outputs": [
    {
     "name": "stdout",
     "output_type": "stream",
     "text": [
      "(10000, 9) (10000,)\n"
     ]
    }
   ],
   "source": [
    "label_name = 'Exited'\n",
    "feature_ = ['CreditScore', 'Geography', 'Gender', 'Tenure', 'Balance', 'NumOfProducts', 'HasCrCard',\n",
    "       'IsActiveMember', 'EstimatedSalary']\n",
    "# feature_ = ['CreditScore', 'Geography', 'Gender', 'Age', 'Tenure', 'Balance', 'NumOfProducts', 'HasCrCard',\n",
    "#        'IsActiveMember', 'EstimatedSalary']\n",
    "X = df[ feature_ ]\n",
    "y = df[ label_name ]\n",
    "print(X.shape, y.shape)"
   ]
  },
  {
   "cell_type": "code",
   "execution_count": 233,
   "id": "7a77c5e6",
   "metadata": {
    "ExecuteTime": {
     "end_time": "2022-07-05T16:58:09.512874Z",
     "start_time": "2022-07-05T16:58:09.502871Z"
    }
   },
   "outputs": [],
   "source": [
    "X = pd.get_dummies(X)"
   ]
  },
  {
   "cell_type": "code",
   "execution_count": 234,
   "id": "15f30592",
   "metadata": {
    "ExecuteTime": {
     "end_time": "2022-07-05T16:58:09.707880Z",
     "start_time": "2022-07-05T16:58:09.700878Z"
    }
   },
   "outputs": [
    {
     "data": {
      "text/plain": [
       "((8000, 12), (2000, 12), (8000,), (2000,))"
      ]
     },
     "execution_count": 234,
     "metadata": {},
     "output_type": "execute_result"
    }
   ],
   "source": [
    "X_train, X_test, y_train, y_test = train_test_split( X, y, test_size = 0.2, random_state = 42 )\n",
    "X_train.shape, X_test.shape, y_train.shape, y_test.shape"
   ]
  },
  {
   "cell_type": "code",
   "execution_count": 235,
   "id": "2fecdf71",
   "metadata": {
    "ExecuteTime": {
     "end_time": "2022-07-05T16:58:10.052768Z",
     "start_time": "2022-07-05T16:58:10.037765Z"
    }
   },
   "outputs": [
    {
     "data": {
      "text/plain": [
       "12"
      ]
     },
     "execution_count": 235,
     "metadata": {},
     "output_type": "execute_result"
    }
   ],
   "source": [
    "input_shape = len(X_train.keys())\n",
    "input_shape"
   ]
  },
  {
   "cell_type": "code",
   "execution_count": 236,
   "id": "ce7f3bac",
   "metadata": {
    "ExecuteTime": {
     "end_time": "2022-07-05T16:58:10.743031Z",
     "start_time": "2022-07-05T16:58:10.646009Z"
    }
   },
   "outputs": [
    {
     "data": {
      "text/plain": [
       "<keras.engine.sequential.Sequential at 0x20f63270310>"
      ]
     },
     "execution_count": 236,
     "metadata": {},
     "output_type": "execute_result"
    }
   ],
   "source": [
    "model = tf.keras.models.Sequential([\n",
    "    tf.keras.layers.Dense(256, activation='relu', input_shape = [input_shape]),\n",
    "    tf.keras.layers.Dense(256, activation='relu'),\n",
    "    tf.keras.layers.Dropout(0.2), \n",
    "    tf.keras.layers.Dense(256, activation='relu'),\n",
    "    tf.keras.layers.Dense(256, activation='relu'),\n",
    "    tf.keras.layers.Dropout(0.3), \n",
    "    tf.keras.layers.Dense(128, activation='relu'),\n",
    "    tf.keras.layers.Dense(128, activation='relu'),\n",
    "    tf.keras.layers.Dropout(0.3), \n",
    "    tf.keras.layers.Dense(64, activation='relu'),\n",
    "    tf.keras.layers.Dense(32, activation='relu'),\n",
    "    tf.keras.layers.Dropout(0.3), \n",
    "    tf.keras.layers.Dense(16, activation='swish'),\n",
    "    tf.keras.layers.Dense(16, activation='swish'),\n",
    "    tf.keras.layers.Dropout(0.1), \n",
    "    tf.keras.layers.Dense(1, activation = 'sigmoid')\n",
    "])\n",
    "model"
   ]
  },
  {
   "cell_type": "code",
   "execution_count": 237,
   "id": "1c8c0428",
   "metadata": {
    "ExecuteTime": {
     "end_time": "2022-07-05T16:58:12.004039Z",
     "start_time": "2022-07-05T16:58:11.985033Z"
    }
   },
   "outputs": [],
   "source": [
    "model.compile(optimizer = 'adam', \n",
    "             loss = 'binary_crossentropy',\n",
    "             metrics = ['accuracy'])"
   ]
  },
  {
   "cell_type": "code",
   "execution_count": 238,
   "id": "a21472fa",
   "metadata": {
    "ExecuteTime": {
     "end_time": "2022-07-05T16:58:12.453950Z",
     "start_time": "2022-07-05T16:58:12.432946Z"
    }
   },
   "outputs": [
    {
     "name": "stdout",
     "output_type": "stream",
     "text": [
      "Model: \"sequential_19\"\n",
      "_________________________________________________________________\n",
      " Layer (type)                Output Shape              Param #   \n",
      "=================================================================\n",
      " dense_209 (Dense)           (None, 256)               3328      \n",
      "                                                                 \n",
      " dense_210 (Dense)           (None, 256)               65792     \n",
      "                                                                 \n",
      " dropout_95 (Dropout)        (None, 256)               0         \n",
      "                                                                 \n",
      " dense_211 (Dense)           (None, 256)               65792     \n",
      "                                                                 \n",
      " dense_212 (Dense)           (None, 256)               65792     \n",
      "                                                                 \n",
      " dropout_96 (Dropout)        (None, 256)               0         \n",
      "                                                                 \n",
      " dense_213 (Dense)           (None, 128)               32896     \n",
      "                                                                 \n",
      " dense_214 (Dense)           (None, 128)               16512     \n",
      "                                                                 \n",
      " dropout_97 (Dropout)        (None, 128)               0         \n",
      "                                                                 \n",
      " dense_215 (Dense)           (None, 64)                8256      \n",
      "                                                                 \n",
      " dense_216 (Dense)           (None, 32)                2080      \n",
      "                                                                 \n",
      " dropout_98 (Dropout)        (None, 32)                0         \n",
      "                                                                 \n",
      " dense_217 (Dense)           (None, 16)                528       \n",
      "                                                                 \n",
      " dense_218 (Dense)           (None, 16)                272       \n",
      "                                                                 \n",
      " dropout_99 (Dropout)        (None, 16)                0         \n",
      "                                                                 \n",
      " dense_219 (Dense)           (None, 1)                 17        \n",
      "                                                                 \n",
      "=================================================================\n",
      "Total params: 261,265\n",
      "Trainable params: 261,265\n",
      "Non-trainable params: 0\n",
      "_________________________________________________________________\n"
     ]
    }
   ],
   "source": [
    "model.summary()"
   ]
  },
  {
   "cell_type": "code",
   "execution_count": 239,
   "id": "0088a5bf",
   "metadata": {
    "ExecuteTime": {
     "end_time": "2022-07-05T16:58:12.889871Z",
     "start_time": "2022-07-05T16:58:12.884868Z"
    }
   },
   "outputs": [],
   "source": [
    "class PrintDot(tf.keras.callbacks.Callback):\n",
    "  def on_epoch_end(self, epoch, logs):\n",
    "    if epoch % 100 == 0: print('')\n",
    "    print('.', end='')\n",
    "\n",
    "early_stop = tf.keras.callbacks.EarlyStopping(monitor='val_loss', patience=10)"
   ]
  },
  {
   "cell_type": "code",
   "execution_count": 240,
   "id": "b10d4464",
   "metadata": {
    "ExecuteTime": {
     "end_time": "2022-07-05T16:58:25.540849Z",
     "start_time": "2022-07-05T16:58:14.309989Z"
    }
   },
   "outputs": [
    {
     "name": "stdout",
     "output_type": "stream",
     "text": [
      "\n",
      "....................."
     ]
    },
    {
     "data": {
      "text/plain": [
       "<keras.callbacks.History at 0x20f63239ee0>"
      ]
     },
     "execution_count": 240,
     "metadata": {},
     "output_type": "execute_result"
    }
   ],
   "source": [
    "# 학습하기\n",
    "history = model.fit(X_train, y_train, epochs=100, validation_split=0.2, \n",
    "                    callbacks=[early_stop, PrintDot()], verbose=0)\n",
    "history"
   ]
  },
  {
   "cell_type": "code",
   "execution_count": 242,
   "id": "5778fd36",
   "metadata": {
    "ExecuteTime": {
     "end_time": "2022-07-05T16:58:49.344722Z",
     "start_time": "2022-07-05T16:58:49.334719Z"
    }
   },
   "outputs": [
    {
     "data": {
      "text/html": [
       "<div>\n",
       "<style scoped>\n",
       "    .dataframe tbody tr th:only-of-type {\n",
       "        vertical-align: middle;\n",
       "    }\n",
       "\n",
       "    .dataframe tbody tr th {\n",
       "        vertical-align: top;\n",
       "    }\n",
       "\n",
       "    .dataframe thead th {\n",
       "        text-align: right;\n",
       "    }\n",
       "</style>\n",
       "<table border=\"1\" class=\"dataframe\">\n",
       "  <thead>\n",
       "    <tr style=\"text-align: right;\">\n",
       "      <th></th>\n",
       "      <th>loss</th>\n",
       "      <th>accuracy</th>\n",
       "      <th>val_loss</th>\n",
       "      <th>val_accuracy</th>\n",
       "    </tr>\n",
       "  </thead>\n",
       "  <tbody>\n",
       "    <tr>\n",
       "      <th>0</th>\n",
       "      <td>42.886803</td>\n",
       "      <td>0.614062</td>\n",
       "      <td>1.213605</td>\n",
       "      <td>0.664375</td>\n",
       "    </tr>\n",
       "    <tr>\n",
       "      <th>1</th>\n",
       "      <td>1.760236</td>\n",
       "      <td>0.714844</td>\n",
       "      <td>0.523491</td>\n",
       "      <td>0.798750</td>\n",
       "    </tr>\n",
       "    <tr>\n",
       "      <th>2</th>\n",
       "      <td>0.643720</td>\n",
       "      <td>0.782188</td>\n",
       "      <td>0.504814</td>\n",
       "      <td>0.798750</td>\n",
       "    </tr>\n",
       "    <tr>\n",
       "      <th>3</th>\n",
       "      <td>0.546501</td>\n",
       "      <td>0.790000</td>\n",
       "      <td>0.502694</td>\n",
       "      <td>0.798750</td>\n",
       "    </tr>\n",
       "    <tr>\n",
       "      <th>4</th>\n",
       "      <td>0.534598</td>\n",
       "      <td>0.789844</td>\n",
       "      <td>0.502284</td>\n",
       "      <td>0.798750</td>\n",
       "    </tr>\n",
       "    <tr>\n",
       "      <th>5</th>\n",
       "      <td>0.518744</td>\n",
       "      <td>0.792656</td>\n",
       "      <td>0.502124</td>\n",
       "      <td>0.798750</td>\n",
       "    </tr>\n",
       "    <tr>\n",
       "      <th>6</th>\n",
       "      <td>0.516096</td>\n",
       "      <td>0.792813</td>\n",
       "      <td>0.502233</td>\n",
       "      <td>0.798750</td>\n",
       "    </tr>\n",
       "    <tr>\n",
       "      <th>7</th>\n",
       "      <td>0.516677</td>\n",
       "      <td>0.792500</td>\n",
       "      <td>0.502175</td>\n",
       "      <td>0.798750</td>\n",
       "    </tr>\n",
       "    <tr>\n",
       "      <th>8</th>\n",
       "      <td>0.515469</td>\n",
       "      <td>0.792813</td>\n",
       "      <td>0.502119</td>\n",
       "      <td>0.798750</td>\n",
       "    </tr>\n",
       "    <tr>\n",
       "      <th>9</th>\n",
       "      <td>0.515531</td>\n",
       "      <td>0.792969</td>\n",
       "      <td>0.502157</td>\n",
       "      <td>0.798750</td>\n",
       "    </tr>\n",
       "    <tr>\n",
       "      <th>10</th>\n",
       "      <td>0.517369</td>\n",
       "      <td>0.792969</td>\n",
       "      <td>0.501938</td>\n",
       "      <td>0.798750</td>\n",
       "    </tr>\n",
       "    <tr>\n",
       "      <th>11</th>\n",
       "      <td>0.654658</td>\n",
       "      <td>0.789844</td>\n",
       "      <td>0.502157</td>\n",
       "      <td>0.798750</td>\n",
       "    </tr>\n",
       "    <tr>\n",
       "      <th>12</th>\n",
       "      <td>0.521701</td>\n",
       "      <td>0.793437</td>\n",
       "      <td>0.502293</td>\n",
       "      <td>0.798750</td>\n",
       "    </tr>\n",
       "    <tr>\n",
       "      <th>13</th>\n",
       "      <td>0.513345</td>\n",
       "      <td>0.793125</td>\n",
       "      <td>0.502276</td>\n",
       "      <td>0.798750</td>\n",
       "    </tr>\n",
       "    <tr>\n",
       "      <th>14</th>\n",
       "      <td>0.510333</td>\n",
       "      <td>0.793437</td>\n",
       "      <td>0.502229</td>\n",
       "      <td>0.798750</td>\n",
       "    </tr>\n",
       "    <tr>\n",
       "      <th>15</th>\n",
       "      <td>0.509786</td>\n",
       "      <td>0.793437</td>\n",
       "      <td>0.502136</td>\n",
       "      <td>0.798750</td>\n",
       "    </tr>\n",
       "    <tr>\n",
       "      <th>16</th>\n",
       "      <td>0.526676</td>\n",
       "      <td>0.793281</td>\n",
       "      <td>0.502318</td>\n",
       "      <td>0.798750</td>\n",
       "    </tr>\n",
       "    <tr>\n",
       "      <th>17</th>\n",
       "      <td>0.555316</td>\n",
       "      <td>0.793281</td>\n",
       "      <td>0.502374</td>\n",
       "      <td>0.798750</td>\n",
       "    </tr>\n",
       "    <tr>\n",
       "      <th>18</th>\n",
       "      <td>0.510392</td>\n",
       "      <td>0.793437</td>\n",
       "      <td>0.502218</td>\n",
       "      <td>0.798750</td>\n",
       "    </tr>\n",
       "    <tr>\n",
       "      <th>19</th>\n",
       "      <td>0.510937</td>\n",
       "      <td>0.793750</td>\n",
       "      <td>0.502255</td>\n",
       "      <td>0.798750</td>\n",
       "    </tr>\n",
       "    <tr>\n",
       "      <th>20</th>\n",
       "      <td>0.510012</td>\n",
       "      <td>0.793437</td>\n",
       "      <td>0.502157</td>\n",
       "      <td>0.798750</td>\n",
       "    </tr>\n",
       "  </tbody>\n",
       "</table>\n",
       "</div>"
      ],
      "text/plain": [
       "         loss  accuracy  val_loss  val_accuracy\n",
       "0   42.886803  0.614062  1.213605      0.664375\n",
       "1    1.760236  0.714844  0.523491      0.798750\n",
       "2    0.643720  0.782188  0.504814      0.798750\n",
       "3    0.546501  0.790000  0.502694      0.798750\n",
       "4    0.534598  0.789844  0.502284      0.798750\n",
       "5    0.518744  0.792656  0.502124      0.798750\n",
       "6    0.516096  0.792813  0.502233      0.798750\n",
       "7    0.516677  0.792500  0.502175      0.798750\n",
       "8    0.515469  0.792813  0.502119      0.798750\n",
       "9    0.515531  0.792969  0.502157      0.798750\n",
       "10   0.517369  0.792969  0.501938      0.798750\n",
       "11   0.654658  0.789844  0.502157      0.798750\n",
       "12   0.521701  0.793437  0.502293      0.798750\n",
       "13   0.513345  0.793125  0.502276      0.798750\n",
       "14   0.510333  0.793437  0.502229      0.798750\n",
       "15   0.509786  0.793437  0.502136      0.798750\n",
       "16   0.526676  0.793281  0.502318      0.798750\n",
       "17   0.555316  0.793281  0.502374      0.798750\n",
       "18   0.510392  0.793437  0.502218      0.798750\n",
       "19   0.510937  0.793750  0.502255      0.798750\n",
       "20   0.510012  0.793437  0.502157      0.798750"
      ]
     },
     "execution_count": 242,
     "metadata": {},
     "output_type": "execute_result"
    }
   ],
   "source": [
    "df_hist = pd.DataFrame(history.history)\n",
    "df_hist"
   ]
  },
  {
   "cell_type": "code",
   "execution_count": 243,
   "id": "4ba234d5",
   "metadata": {
    "ExecuteTime": {
     "end_time": "2022-07-05T16:59:12.122049Z",
     "start_time": "2022-07-05T16:59:11.890986Z"
    }
   },
   "outputs": [
    {
     "data": {
      "text/plain": [
       "<AxesSubplot:>"
      ]
     },
     "execution_count": 243,
     "metadata": {},
     "output_type": "execute_result"
    },
    {
     "data": {
      "image/png": "[encoded data removed]",
      "text/plain": [
       "<Figure size 2160x576 with 2 Axes>"
      ]
     },
     "metadata": {},
     "output_type": "display_data"
    }
   ],
   "source": [
    "# 학습결과를 시각화 합니다.\n",
    "fig, axes = plt.subplots( 1, 2, figsize = (30, 8) )\n",
    "df_hist[['loss', 'val_loss']].plot(ax = axes[0])\n",
    "df_hist[['accuracy', 'val_accuracy']].plot(ax = axes[1])"
   ]
  },
  {
   "cell_type": "markdown",
   "id": "25a323f1",
   "metadata": {},
   "source": [
    "# 예측하기"
   ]
  },
  {
   "cell_type": "code",
   "execution_count": 246,
   "id": "79f9b1c1",
   "metadata": {
    "ExecuteTime": {
     "end_time": "2022-07-05T16:59:51.432077Z",
     "start_time": "2022-07-05T16:59:51.311050Z"
    }
   },
   "outputs": [
    {
     "name": "stdout",
     "output_type": "stream",
     "text": [
      "63/63 [==============================] - 0s 968us/step\n"
     ]
    }
   ],
   "source": [
    "y_pred = model.predict(X_test)"
   ]
  },
  {
   "cell_type": "code",
   "execution_count": 247,
   "id": "0f905e83",
   "metadata": {
    "ExecuteTime": {
     "end_time": "2022-07-05T17:00:41.730051Z",
     "start_time": "2022-07-05T17:00:41.719049Z"
    }
   },
   "outputs": [],
   "source": [
    "y_predict = (y_pred > 0.5).astype(int)"
   ]
  },
  {
   "cell_type": "code",
   "execution_count": 248,
   "id": "c539cbd5",
   "metadata": {
    "ExecuteTime": {
     "end_time": "2022-07-05T17:00:42.285205Z",
     "start_time": "2022-07-05T17:00:42.063154Z"
    }
   },
   "outputs": [
    {
     "name": "stdout",
     "output_type": "stream",
     "text": [
      "63/63 [==============================] - 0s 1ms/step - loss: 0.4957 - accuracy: 0.8035\n"
     ]
    }
   ],
   "source": [
    "test_loss, test_acc = model.evaluate(X_test, y_test)"
   ]
  },
  {
   "cell_type": "code",
   "execution_count": 249,
   "id": "c0ec8dd4",
   "metadata": {
    "ExecuteTime": {
     "end_time": "2022-07-05T17:01:58.551171Z",
     "start_time": "2022-07-05T17:01:58.531166Z"
    }
   },
   "outputs": [
    {
     "data": {
      "text/plain": [
       "0.44328320518603004"
      ]
     },
     "execution_count": 249,
     "metadata": {},
     "output_type": "execute_result"
    }
   ],
   "source": [
    "from sklearn.metrics import mean_squared_error\n",
    "\n",
    "rmse = np.sqrt(mean_squared_error(y_test, y_predict))\n",
    "rmse"
   ]
  },
  {
   "cell_type": "code",
   "execution_count": null,
   "id": "474950cb",
   "metadata": {},
   "outputs": [],
   "source": []
  },
  {
   "cell_type": "code",
   "execution_count": null,
   "id": "4958df6b",
   "metadata": {},
   "outputs": [],
   "source": []
  },
  {
   "cell_type": "code",
   "execution_count": null,
   "id": "4653d2a7",
   "metadata": {},
   "outputs": [],
   "source": []
  },
  {
   "cell_type": "code",
   "execution_count": null,
   "id": "c3365693",
   "metadata": {},
   "outputs": [],
   "source": []
  },
  {
   "cell_type": "code",
   "execution_count": null,
   "id": "66a337c4",
   "metadata": {},
   "outputs": [],
   "source": []
  },
  {
   "cell_type": "code",
   "execution_count": null,
   "id": "821b3fb0",
   "metadata": {},
   "outputs": [],
   "source": []
  },
  {
   "cell_type": "code",
   "execution_count": null,
   "id": "07bb7e62",
   "metadata": {},
   "outputs": [],
   "source": []
  },
  {
   "cell_type": "code",
   "execution_count": null,
   "id": "0368af15",
   "metadata": {},
   "outputs": [],
   "source": []
  },
  {
   "cell_type": "code",
   "execution_count": null,
   "id": "a8c8efd7",
   "metadata": {},
   "outputs": [],
   "source": []
  },
  {
   "cell_type": "code",
   "execution_count": null,
   "id": "09e1349e",
   "metadata": {},
   "outputs": [],
   "source": []
  },
  {
   "cell_type": "code",
   "execution_count": null,
   "id": "cddb50ca",
   "metadata": {},
   "outputs": [],
   "source": []
  },
  {
   "cell_type": "code",
   "execution_count": null,
   "id": "82784482",
   "metadata": {},
   "outputs": [],
   "source": []
  }
 ],
 "metadata": {
  "kernelspec": {
   "display_name": "Python 3 (ipykernel)",
   "language": "python",
   "name": "python3"
  },
  "language_info": {
   "codemirror_mode": {
    "name": "ipython",
    "version": 3
   },
   "file_extension": ".py",
   "mimetype": "text/x-python",
   "name": "python",
   "nbconvert_exporter": "python",
   "pygments_lexer": "ipython3",
   "version": "3.9.12"
  },
  "toc": {
   "base_numbering": 1,
   "nav_menu": {},
   "number_sections": true,
   "sideBar": true,
   "skip_h1_title": false,
   "title_cell": "Table of Contents",
   "title_sidebar": "Contents",
   "toc_cell": false,
   "toc_position": {},
   "toc_section_display": true,
   "toc_window_display": false
  },
  "varInspector": {
   "cols": {
    "lenName": 16,
    "lenType": 16,
    "lenVar": 40
   },
   "kernels_config": {
    "python": {
     "delete_cmd_postfix": "",
     "delete_cmd_prefix": "del ",
     "library": "var_list.py",
     "varRefreshCmd": "print(var_dic_list())"
    },
    "r": {
     "delete_cmd_postfix": ") ",
     "delete_cmd_prefix": "rm(",
     "library": "var_list.r",
     "varRefreshCmd": "cat(var_dic_list()) "
    }
   },
   "types_to_exclude": [
    "module",
    "function",
    "builtin_function_or_method",
    "instance",
    "_Feature"
   ],
   "window_display": false
  }
 },
 "nbformat": 4,
 "nbformat_minor": 5
}
